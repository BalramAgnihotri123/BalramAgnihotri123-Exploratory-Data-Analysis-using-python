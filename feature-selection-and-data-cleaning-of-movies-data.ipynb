{
 "cells": [
  {
   "cell_type": "markdown",
   "id": "6b0e3f55",
   "metadata": {
    "papermill": {
     "duration": 0.013001,
     "end_time": "2022-10-14T11:32:10.535208",
     "exception": false,
     "start_time": "2022-10-14T11:32:10.522207",
     "status": "completed"
    },
    "tags": []
   },
   "source": [
    "## 1. Importing Relevent Liabraries"
   ]
  },
  {
   "cell_type": "code",
   "execution_count": 8,
   "id": "8fef40ef",
   "metadata": {
    "execution": {
     "iopub.execute_input": "2022-10-14T11:32:10.562635Z",
     "iopub.status.busy": "2022-10-14T11:32:10.561781Z",
     "iopub.status.idle": "2022-10-14T11:32:13.522535Z",
     "shell.execute_reply": "2022-10-14T11:32:13.521594Z"
    },
    "papermill": {
     "duration": 2.974558,
     "end_time": "2022-10-14T11:32:13.524655",
     "exception": false,
     "start_time": "2022-10-14T11:32:10.550097",
     "status": "completed"
    },
    "tags": []
   },
   "outputs": [
    {
     "data": {
      "text/html": [
       "        <script type=\"text/javascript\">\n",
       "        window.PlotlyConfig = {MathJaxConfig: 'local'};\n",
       "        if (window.MathJax && window.MathJax.Hub && window.MathJax.Hub.Config) {window.MathJax.Hub.Config({SVG: {font: \"STIX-Web\"}});}\n",
       "        if (typeof require !== 'undefined') {\n",
       "        require.undef(\"plotly\");\n",
       "        requirejs.config({\n",
       "            paths: {\n",
       "                'plotly': ['https://cdn.plot.ly/plotly-2.12.1.min']\n",
       "            }\n",
       "        });\n",
       "        require(['plotly'], function(Plotly) {\n",
       "            window._Plotly = Plotly;\n",
       "        });\n",
       "        }\n",
       "        </script>\n",
       "        "
      ]
     },
     "metadata": {},
     "output_type": "display_data"
    }
   ],
   "source": [
    "# This Python 3 environment comes with many helpful analytics libraries installed\n",
    "# It is defined by the kaggle/python Docker image: https://github.com/kaggle/docker-python\n",
    "# For example, here's several helpful packages to load\n",
    "\n",
    "import pandas as pd \n",
    "import numpy as np\n",
    "import matplotlib.pyplot as plt\n",
    "import seaborn as sns\n",
    "import re\n",
    "import os \n",
    "import warnings\n",
    "\n",
    "\n",
    "import plotly.express as px\n",
    "from plotly.offline import init_notebook_mode, iplot\n",
    "import plotly.graph_objects as go\n",
    "init_notebook_mode(connected=True)\n",
    "\n",
    "\n",
    "%matplotlib inline\n",
    "warnings.filterwarnings(\"ignore\")\n",
    "\n",
    "# Input data files are available in the read-only \"../input/\" directory\n",
    "# For example, running this (by clicking run or pressing Shift+Enter) will list all files under the input directory\n",
    "\n",
    "import os\n",
    "for dirname, _, filenames in os.walk('/kaggle/input'):\n",
    "    for filename in filenames:\n",
    "        print(os.path.join(dirname, filename))\n",
    "\n",
    "# You can write up to 20GB to the current directory (/kaggle/working/) that gets preserved as output when you create a version using \"Save & Run All\" \n",
    "# You can also write temporary files to /kaggle/temp/, but they won't be saved outside of the current session"
   ]
  },
  {
   "cell_type": "markdown",
   "id": "6db6b532",
   "metadata": {
    "papermill": {
     "duration": 0.007587,
     "end_time": "2022-10-14T11:32:13.540728",
     "exception": false,
     "start_time": "2022-10-14T11:32:13.533141",
     "status": "completed"
    },
    "tags": []
   },
   "source": [
    "## 2.Cleaning and feature selection in the data"
   ]
  },
  {
   "cell_type": "code",
   "execution_count": 16,
   "id": "290f6bfb",
   "metadata": {
    "execution": {
     "iopub.execute_input": "2022-10-14T11:32:13.584894Z",
     "iopub.status.busy": "2022-10-14T11:32:13.584250Z",
     "iopub.status.idle": "2022-10-14T11:32:13.710931Z",
     "shell.execute_reply": "2022-10-14T11:32:13.709851Z"
    },
    "papermill": {
     "duration": 0.13763,
     "end_time": "2022-10-14T11:32:13.713069",
     "exception": false,
     "start_time": "2022-10-14T11:32:13.575439",
     "status": "completed"
    },
    "scrolled": true,
    "tags": []
   },
   "outputs": [
    {
     "ename": "ParserError",
     "evalue": "Error tokenizing data. C error: Expected 1 fields in line 4, saw 4\n",
     "output_type": "error",
     "traceback": [
      "\u001b[1;31m---------------------------------------------------------------------------\u001b[0m",
      "\u001b[1;31mParserError\u001b[0m                               Traceback (most recent call last)",
      "Input \u001b[1;32mIn [16]\u001b[0m, in \u001b[0;36m<cell line: 1>\u001b[1;34m()\u001b[0m\n\u001b[1;32m----> 1\u001b[0m df\u001b[38;5;241m=\u001b[39m\u001b[43mpd\u001b[49m\u001b[38;5;241;43m.\u001b[39;49m\u001b[43mread_csv\u001b[49m\u001b[43m(\u001b[49m\u001b[38;5;124;43m\"\u001b[39;49m\u001b[38;5;124;43mC:\u001b[39;49m\u001b[38;5;130;43;01m\\\\\u001b[39;49;00m\u001b[38;5;124;43mUsers\u001b[39;49m\u001b[38;5;130;43;01m\\\\\u001b[39;49;00m\u001b[38;5;124;43mbalra\u001b[39;49m\u001b[38;5;130;43;01m\\\\\u001b[39;49;00m\u001b[38;5;124;43mDownloads/movies_data_before_cleaning.csv\u001b[39;49m\u001b[38;5;124;43m\"\u001b[39;49m\u001b[43m,\u001b[49m\u001b[43mencoding\u001b[49m\u001b[43m \u001b[49m\u001b[38;5;241;43m=\u001b[39;49m\u001b[43m \u001b[49m\u001b[38;5;124;43m'\u001b[39;49m\u001b[38;5;124;43mlatin-1\u001b[39;49m\u001b[38;5;124;43m'\u001b[39;49m\u001b[43m)\u001b[49m\n\u001b[0;32m      2\u001b[0m df\u001b[38;5;241m.\u001b[39mhead()\n",
      "File \u001b[1;32m~\\anaconda3\\lib\\site-packages\\pandas\\util\\_decorators.py:311\u001b[0m, in \u001b[0;36mdeprecate_nonkeyword_arguments.<locals>.decorate.<locals>.wrapper\u001b[1;34m(*args, **kwargs)\u001b[0m\n\u001b[0;32m    305\u001b[0m \u001b[38;5;28;01mif\u001b[39;00m \u001b[38;5;28mlen\u001b[39m(args) \u001b[38;5;241m>\u001b[39m num_allow_args:\n\u001b[0;32m    306\u001b[0m     warnings\u001b[38;5;241m.\u001b[39mwarn(\n\u001b[0;32m    307\u001b[0m         msg\u001b[38;5;241m.\u001b[39mformat(arguments\u001b[38;5;241m=\u001b[39marguments),\n\u001b[0;32m    308\u001b[0m         \u001b[38;5;167;01mFutureWarning\u001b[39;00m,\n\u001b[0;32m    309\u001b[0m         stacklevel\u001b[38;5;241m=\u001b[39mstacklevel,\n\u001b[0;32m    310\u001b[0m     )\n\u001b[1;32m--> 311\u001b[0m \u001b[38;5;28;01mreturn\u001b[39;00m func(\u001b[38;5;241m*\u001b[39margs, \u001b[38;5;241m*\u001b[39m\u001b[38;5;241m*\u001b[39mkwargs)\n",
      "File \u001b[1;32m~\\anaconda3\\lib\\site-packages\\pandas\\io\\parsers\\readers.py:680\u001b[0m, in \u001b[0;36mread_csv\u001b[1;34m(filepath_or_buffer, sep, delimiter, header, names, index_col, usecols, squeeze, prefix, mangle_dupe_cols, dtype, engine, converters, true_values, false_values, skipinitialspace, skiprows, skipfooter, nrows, na_values, keep_default_na, na_filter, verbose, skip_blank_lines, parse_dates, infer_datetime_format, keep_date_col, date_parser, dayfirst, cache_dates, iterator, chunksize, compression, thousands, decimal, lineterminator, quotechar, quoting, doublequote, escapechar, comment, encoding, encoding_errors, dialect, error_bad_lines, warn_bad_lines, on_bad_lines, delim_whitespace, low_memory, memory_map, float_precision, storage_options)\u001b[0m\n\u001b[0;32m    665\u001b[0m kwds_defaults \u001b[38;5;241m=\u001b[39m _refine_defaults_read(\n\u001b[0;32m    666\u001b[0m     dialect,\n\u001b[0;32m    667\u001b[0m     delimiter,\n\u001b[1;32m   (...)\u001b[0m\n\u001b[0;32m    676\u001b[0m     defaults\u001b[38;5;241m=\u001b[39m{\u001b[38;5;124m\"\u001b[39m\u001b[38;5;124mdelimiter\u001b[39m\u001b[38;5;124m\"\u001b[39m: \u001b[38;5;124m\"\u001b[39m\u001b[38;5;124m,\u001b[39m\u001b[38;5;124m\"\u001b[39m},\n\u001b[0;32m    677\u001b[0m )\n\u001b[0;32m    678\u001b[0m kwds\u001b[38;5;241m.\u001b[39mupdate(kwds_defaults)\n\u001b[1;32m--> 680\u001b[0m \u001b[38;5;28;01mreturn\u001b[39;00m \u001b[43m_read\u001b[49m\u001b[43m(\u001b[49m\u001b[43mfilepath_or_buffer\u001b[49m\u001b[43m,\u001b[49m\u001b[43m \u001b[49m\u001b[43mkwds\u001b[49m\u001b[43m)\u001b[49m\n",
      "File \u001b[1;32m~\\anaconda3\\lib\\site-packages\\pandas\\io\\parsers\\readers.py:581\u001b[0m, in \u001b[0;36m_read\u001b[1;34m(filepath_or_buffer, kwds)\u001b[0m\n\u001b[0;32m    578\u001b[0m     \u001b[38;5;28;01mreturn\u001b[39;00m parser\n\u001b[0;32m    580\u001b[0m \u001b[38;5;28;01mwith\u001b[39;00m parser:\n\u001b[1;32m--> 581\u001b[0m     \u001b[38;5;28;01mreturn\u001b[39;00m \u001b[43mparser\u001b[49m\u001b[38;5;241;43m.\u001b[39;49m\u001b[43mread\u001b[49m\u001b[43m(\u001b[49m\u001b[43mnrows\u001b[49m\u001b[43m)\u001b[49m\n",
      "File \u001b[1;32m~\\anaconda3\\lib\\site-packages\\pandas\\io\\parsers\\readers.py:1255\u001b[0m, in \u001b[0;36mTextFileReader.read\u001b[1;34m(self, nrows)\u001b[0m\n\u001b[0;32m   1253\u001b[0m nrows \u001b[38;5;241m=\u001b[39m validate_integer(\u001b[38;5;124m\"\u001b[39m\u001b[38;5;124mnrows\u001b[39m\u001b[38;5;124m\"\u001b[39m, nrows)\n\u001b[0;32m   1254\u001b[0m \u001b[38;5;28;01mtry\u001b[39;00m:\n\u001b[1;32m-> 1255\u001b[0m     index, columns, col_dict \u001b[38;5;241m=\u001b[39m \u001b[38;5;28;43mself\u001b[39;49m\u001b[38;5;241;43m.\u001b[39;49m\u001b[43m_engine\u001b[49m\u001b[38;5;241;43m.\u001b[39;49m\u001b[43mread\u001b[49m\u001b[43m(\u001b[49m\u001b[43mnrows\u001b[49m\u001b[43m)\u001b[49m\n\u001b[0;32m   1256\u001b[0m \u001b[38;5;28;01mexcept\u001b[39;00m \u001b[38;5;167;01mException\u001b[39;00m:\n\u001b[0;32m   1257\u001b[0m     \u001b[38;5;28mself\u001b[39m\u001b[38;5;241m.\u001b[39mclose()\n",
      "File \u001b[1;32m~\\anaconda3\\lib\\site-packages\\pandas\\io\\parsers\\c_parser_wrapper.py:225\u001b[0m, in \u001b[0;36mCParserWrapper.read\u001b[1;34m(self, nrows)\u001b[0m\n\u001b[0;32m    223\u001b[0m \u001b[38;5;28;01mtry\u001b[39;00m:\n\u001b[0;32m    224\u001b[0m     \u001b[38;5;28;01mif\u001b[39;00m \u001b[38;5;28mself\u001b[39m\u001b[38;5;241m.\u001b[39mlow_memory:\n\u001b[1;32m--> 225\u001b[0m         chunks \u001b[38;5;241m=\u001b[39m \u001b[38;5;28;43mself\u001b[39;49m\u001b[38;5;241;43m.\u001b[39;49m\u001b[43m_reader\u001b[49m\u001b[38;5;241;43m.\u001b[39;49m\u001b[43mread_low_memory\u001b[49m\u001b[43m(\u001b[49m\u001b[43mnrows\u001b[49m\u001b[43m)\u001b[49m\n\u001b[0;32m    226\u001b[0m         \u001b[38;5;66;03m# destructive to chunks\u001b[39;00m\n\u001b[0;32m    227\u001b[0m         data \u001b[38;5;241m=\u001b[39m _concatenate_chunks(chunks)\n",
      "File \u001b[1;32m~\\anaconda3\\lib\\site-packages\\pandas\\_libs\\parsers.pyx:805\u001b[0m, in \u001b[0;36mpandas._libs.parsers.TextReader.read_low_memory\u001b[1;34m()\u001b[0m\n",
      "File \u001b[1;32m~\\anaconda3\\lib\\site-packages\\pandas\\_libs\\parsers.pyx:861\u001b[0m, in \u001b[0;36mpandas._libs.parsers.TextReader._read_rows\u001b[1;34m()\u001b[0m\n",
      "File \u001b[1;32m~\\anaconda3\\lib\\site-packages\\pandas\\_libs\\parsers.pyx:847\u001b[0m, in \u001b[0;36mpandas._libs.parsers.TextReader._tokenize_rows\u001b[1;34m()\u001b[0m\n",
      "File \u001b[1;32m~\\anaconda3\\lib\\site-packages\\pandas\\_libs\\parsers.pyx:1960\u001b[0m, in \u001b[0;36mpandas._libs.parsers.raise_parser_error\u001b[1;34m()\u001b[0m\n",
      "\u001b[1;31mParserError\u001b[0m: Error tokenizing data. C error: Expected 1 fields in line 4, saw 4\n"
     ]
    }
   ],
   "source": [
    "df=pd.read_csv(\"C:\\\\Users\\\\balra\\\\Downloads/movies_data_before_cleaning.csv\",encoding = 'latin-1')\n",
    "df.head()"
   ]
  },
  {
   "cell_type": "markdown",
   "id": "fcc3376e",
   "metadata": {
    "papermill": {
     "duration": 0.008051,
     "end_time": "2022-10-14T11:32:13.729794",
     "exception": false,
     "start_time": "2022-10-14T11:32:13.721743",
     "status": "completed"
    },
    "tags": []
   },
   "source": [
    "### 2.1 Cleaning Year column\n",
    "*Types of values in year column*\n",
    "1. year only\n",
    "2. year-\n",
    "3. year-year\n",
    "4. (roman) [(year) or (year-year)]\n",
    "5. (year and some string)\n"
   ]
  },
  {
   "cell_type": "code",
   "execution_count": 4,
   "id": "7d1dba79",
   "metadata": {
    "_kg_hide-output": true,
    "execution": {
     "iopub.execute_input": "2022-10-14T11:32:13.748652Z",
     "iopub.status.busy": "2022-10-14T11:32:13.746796Z",
     "iopub.status.idle": "2022-10-14T11:32:13.760516Z",
     "shell.execute_reply": "2022-10-14T11:32:13.759496Z"
    },
    "papermill": {
     "duration": 0.024642,
     "end_time": "2022-10-14T11:32:13.762545",
     "exception": false,
     "start_time": "2022-10-14T11:32:13.737903",
     "status": "completed"
    },
    "tags": []
   },
   "outputs": [
    {
     "data": {
      "text/plain": [
       "array(['(2021)', '(2021– )', '(2010–2022)', '(2013– )', '(2020– )',\n",
       "       '(2006–2013)', '(2019– )', '(2016–2021)', '(2011– )', '(2005– )',\n",
       "       '(2008–2013)', '(2017– )', '(2017–2021)', '(2016– )',\n",
       "       '(1994–2004)', '(2014– )', '(2013–2020)', '(2015– )',\n",
       "       '(2005–2020)', '(2013–2022)', '(2003– )', '(2009–2020)',\n",
       "       '(I) (2018– )', '(2010–2015)', '(2011–2019)', '(2015–2020)',\n",
       "       '(2005–2014)', '(2009–2015)', '(2008–2014)', '(2016–2018)',\n",
       "       '(2009–2017)', '(2020)', '(2018–2021)', '(2017–2020)',\n",
       "       '(1987–1994)', '(2018– )', '(2012– )', '(2014–2020)',\n",
       "       '(2011–2018)', '(2005–2017)', '(2017)', '(2007–2015)',\n",
       "       '(2000–2007)', '(II) (2007– )', '(1993)', '(1999–2022)',\n",
       "       '(2015–2018)', '(2014–2019)', '(2016)', '(2012–2020)',\n",
       "       '(2013–2019)', '(2007–2012)', '(2011–2020)', '(2010–2017)',\n",
       "       '(2000–2015)', '(2015–2021)', '(2001)', '(1997– )', '(2011–2017)',\n",
       "       '(1993–1999)', '(1989–1998)', '(2010–2013)', '(2010–2020)',\n",
       "       '(2003–2019)', '(I) (2019)', '(2017–2019)', '(1975)',\n",
       "       '(2005–2008)', '(1995–2001)', '(2006)', '(2015–2017)',\n",
       "       '(2008–2020)', '(1984–1996)', '(2010– )', '(2014)', '(2000)',\n",
       "       '(2013–2018)', '(2009–2016)', '(2016–2020)', '(2021 TV Special)',\n",
       "       '(2003)', '(1998–2003)', '(I) (2017)', '(1966–1969)', '(2009– )',\n",
       "       '(2019)', '(1990–1991)', '(2012)', '(1995)', '(2020–2021)',\n",
       "       '(2013–2017)', '(2015)', '(2019–2020)', '(2017–2018)',\n",
       "       '(2013–2015)', '(2012–2017)', '(I) (2013–2016)', '(2002)',\n",
       "       '(I) (2020)', '(III) (2021)', '(2018)', '(II) (2016)', '(1976)',\n",
       "       '(1978)', '(2016–2019)', '(2009–2014)', '(2022)', '(2011–2014)',\n",
       "       '(2007–2013)', '(2006–2007)', '(2002–2007)', '(2014–2017)',\n",
       "       '(2010–2019)', '(2008– )', '(2012–2019)', '(2014–2016)',\n",
       "       '(2009–2012)', '(2018–2020)', '(2001–2005)', '(2011–2015)',\n",
       "       '(2014–2018)', '(2015–2019)', '(1982–1993)', '(1998– )', '(1968)',\n",
       "       '(2010–2018)', '(2014–2021)', '(2007–2010)', '(2011)',\n",
       "       '(2013–2021)', '(1990–1996)', '(2004)', '(2007–2014)',\n",
       "       '(1996–2001)', '(2013)', '(2008)', '(1999–2000)', '(2012–2014)',\n",
       "       '(I) (2013)', '(2012–2018)', '(2018–2019)', '(2009–2013)',\n",
       "       '(1971)', '(2004– )', '(1989)', '(1998)', '(2001–2018)',\n",
       "       '(1987–1995)', '(I) (2014)', '(1998–2020)', '(I) (2015)', '(1997)',\n",
       "       '(2004–2013)', '(2002– )', '(2010)', '(I) (2016)', '(II) (2017– )',\n",
       "       '(I) (2018)', '(I) (2021)', '(2004–2012)', '(2019–2021)',\n",
       "       '(IV) (2020)', '(2006–2010)', '(2006–2012)', '(1996)',\n",
       "       '(1994–2000)', '(II) (2020)', '(1980)', '(I) (2011)',\n",
       "       '(1995–1996)', '(2016–2017)', '(1993–1996)', '(II) (2019– )',\n",
       "       '(2009)', '(1962)', '(1991)', '(2022– )', '(II) (2017)',\n",
       "       '(I) (2012)', '(1984)', '(2011–2016)', '(2009–2019)',\n",
       "       '(II) (2020– )', '(2006–2021)', '(I) (2010)', '(2012–2015)',\n",
       "       '(I) (2013–2014)', '(1960)', '(1988)', '(2007)', '(1987)',\n",
       "       '(2010–2011)', '(1969)', '(2006–2011)', '(II) (2019)', '(1961)',\n",
       "       '(1979)', '(II) (2022)', '(2014–2015)', '(1956)', '(2013–2016)',\n",
       "       '(III) (2018)', '(2005)', '(II) (2012– )', '(II) (2013)', '(1983)',\n",
       "       '(2002–2019)', '(2013 TV Movie)', '(II) (2015)', '(I) (2012–2015)',\n",
       "       '(1975–1979)', '(1990)', nan, '(II) (2018)', '(IV) (2021)',\n",
       "       '(2015–2016)', '(1995–1998)', '(1986)', '(2012–2013)', '(1966)',\n",
       "       '(2011–2012)', '(2011–2021)', '(2016 Video)', '(2017 TV Movie)',\n",
       "       '(2009–2011)', '(2004–2018)', '(1967)', '(1984– )', '(1994)',\n",
       "       '(2003–2006)', '(III) (2015)', '(1974)', '(2000–2004)',\n",
       "       '(1984–2021)', '(I)', '(II) (2021)', '(1994–1999)', '(III)',\n",
       "       '(1992)', '(1969–1974)', '(2012–2016)', '(2013–2014)',\n",
       "       '(I) (2008)', '(1958)', '(2008–2009)', '(II) (2004)',\n",
       "       '(III) (2019)', '(2006–2009)', '(2011–2013)', '(2007–2008)',\n",
       "       '(1988–1999)', '(2010–2012)', '(2010–2014)', '(II) (2012)',\n",
       "       '(1932)', '(2014 TV Movie)', '(1941)', '(2006– )', '(1992–1995)',\n",
       "       '(2016 TV Special)', '(2020 TV Movie)', '(2008–2010)', '(II)',\n",
       "       '(2020 Video)', '(1999– )', '(1950)', '(2020 TV Special)',\n",
       "       '(1992–2014)', '(2002–2005)', '(2013 TV Special)', '(I) (2021– )',\n",
       "       '(1999)', '(2016 TV Movie)', '(XII)', '(VII)', '(2021 TV Movie)',\n",
       "       '(1983– )', '(1996 Video)', '(1993 TV Movie)', '(2018 TV Movie)',\n",
       "       '(2005–2009)', '(2001–2002)', '(2015 TV Movie)', '(I) (2020– )',\n",
       "       '(2011 Video)', '(2008 Video)', '(2012 Video)', '(1946)',\n",
       "       '(II) (2014)', '(2019 Video)', '(1981–1989)', '(IV) (2016)',\n",
       "       '(III) (2016)', '(2019 TV Movie)', '(1952)', '(2007 Video)',\n",
       "       '(2000–2014)', '(1992– )', '(1957)', '(2003–2007)', '(IV)',\n",
       "       '(2008–2017)', '(2008–2019)', '(1998–2000)', '(I) (2004)',\n",
       "       '(2007–2016)', '(2017 TV Special)', '(2009 TV Movie)',\n",
       "       '(2013 Video)', '(2017 Video)', '(1994–1996)', '(IV) (2017)',\n",
       "       '(IV) (2018)', '(2007– )', '(1954)', '(2012 TV Movie)', '(1995– )',\n",
       "       '(1982)', '(1955)', '(2014 TV Short)', '(I) (2022– )',\n",
       "       '(I) (2019–2020)', '(1975 TV Movie)', '(2019 TV Special)',\n",
       "       '(2015 TV Special)', '(2015 TV Short)', '(2018 TV Special)',\n",
       "       '(1948)', '(2014 Video)', '(VI) (2014)', '(2003–2013)',\n",
       "       '(2021 Video)', '(1947)', '(2001– )', '(II) (2021– )',\n",
       "       '(1997–2000)', '(III) (2020)', '(I) (2019– )', '(1993– )',\n",
       "       '(1977)', '(I) (2009)', '(V)', '(2023)', '(I) (2000)',\n",
       "       '(TV Special)', '(II) (2011)', '(TV Movie)', '(1945)',\n",
       "       '(2015 Video)', '(III) (2010)', '(2009 Video)', '(1998–2002)',\n",
       "       '(2008 TV Movie)', '(2019 TV Short)', '(2004 Video)',\n",
       "       '(II) (1998)', '(2014 TV Special)', '(1953)', '(1985)', '(VIII)',\n",
       "       '(1973)', '(2012 TV Special)', '(V) (2016)', '(1972)',\n",
       "       '(V) (2018)', '(II) (2010)', '(2021 TV Short)', '(VI) (2019)',\n",
       "       '(I) (2005)', '(1965)', '(2010–2016)', '(V) (2010)', '(2005–2013)',\n",
       "       '(2006 TV Special)', '(2006 Video)', '(2011 TV Movie)',\n",
       "       '(1988 TV Movie)', '(XXIII)', '(2011 TV Special)',\n",
       "       '(2020 TV Short)', '(VI) (2018)', '(2008 TV Special)',\n",
       "       '(1998–1999)', '(I) (2015– )', '(III) (2012)', '(VI)',\n",
       "       '(2010 TV Special)', '(III) (2017)', '(1993 TV Special)',\n",
       "       '(2004–2005)', '(1992 Video)', '(1989 TV Special)', '(XI)',\n",
       "       '(III) (2014)', '(1966 TV Special)', '(1999 TV Movie)',\n",
       "       '(1987 TV Special)', '(1944)', '(1998 TV Special)',\n",
       "       '(2006 TV Movie)', '(2022 TV Special)', '(1989 Video)',\n",
       "       '(1991 TV Special)', '(XLI)', '(IV) (2014)', '(2005 Video)',\n",
       "       '(2007 TV Special)', '(1965 TV Special)', '(1990 TV Special)',\n",
       "       '(2001 TV Special)', '(IX)', '(II) (2016– )', '(XIV) (2017)',\n",
       "       '(2009–2010)', '(XIII)', '(II) (2012–2019)', '(1933)',\n",
       "       '(II) (2009)', '(2010 Video)', '(2009 TV Special)', '(1938)',\n",
       "       '(2003 TV Special)', '(Video)', '(2001 TV Movie)', '(VI) (2016)',\n",
       "       '(III) (2011)', '(2007 TV Movie)', '(2017 TV Short)',\n",
       "       '(2018 Video)', '(2000 Video)', '(1995 Video)', '(2003 Video)',\n",
       "       '(II) (2016 TV Movie)', '(1998 Video)', '(2005 TV Special)',\n",
       "       '(2004–2009)', '(2018 Video Game)', '(1988– )', '(1985– )'],\n",
       "      dtype=object)"
      ]
     },
     "execution_count": 4,
     "metadata": {},
     "output_type": "execute_result"
    }
   ],
   "source": [
    "df['YEAR'].unique()"
   ]
  },
  {
   "cell_type": "code",
   "execution_count": 5,
   "id": "dd553b1f",
   "metadata": {
    "execution": {
     "iopub.execute_input": "2022-10-14T11:32:13.780971Z",
     "iopub.status.busy": "2022-10-14T11:32:13.780680Z",
     "iopub.status.idle": "2022-10-14T11:32:14.075431Z",
     "shell.execute_reply": "2022-10-14T11:32:14.074472Z"
    },
    "papermill": {
     "duration": 0.306931,
     "end_time": "2022-10-14T11:32:14.078164",
     "exception": false,
     "start_time": "2022-10-14T11:32:13.771233",
     "status": "completed"
    },
    "tags": []
   },
   "outputs": [],
   "source": [
    "df['YEAR'] = df.YEAR.apply(lambda x: str(str(x).split(\"(\")[-1]).split(\")\")[0])\n",
    "years= df.YEAR\n",
    "\n",
    "## years that end in \"-\" means that the show is still going,so its better to take this account in order to update it later on to current year.\n",
    "with_hypen=[]\n",
    "for i in range(len(years)):\n",
    "    if years[i][-1]==\" \":\n",
    "        with_hypen.append(1)\n",
    "    else:\n",
    "        with_hypen.append(0)\n",
    "df['hypen_year']=with_hypen\n",
    "\n",
    "## Getting only the interger values and joining the integere values to create year-like pattern YYYY-YYYY and separating them into differetn columns\n",
    "def convert(list):\n",
    "      \n",
    "    # Converting integer list to string list\n",
    "    s = [str(i) for i in list]\n",
    "      \n",
    "    # Join list items using join()\n",
    "    res = \"\".join(s)\n",
    "      \n",
    "    return(res)\n",
    "\n",
    "year=[]\n",
    "year_1=[]\n",
    "year_2=[]\n",
    "for i in range(len(df)):\n",
    "    a = re.findall(\"\\w\\d\",df.YEAR[i])\n",
    "    year.append(convert(a))\n",
    "    year_1.append(year[i][:4])\n",
    "    year_2.append(year[i][-4:])\n",
    "df['YEAR']=year\n",
    "df['beg_year']=year_1\n",
    "df['end_year']=year_2\n",
    "\n",
    "## Converting values to numeric values\n",
    "df['beg_year']=pd.to_numeric(df['beg_year'])\n",
    "df['end_year']=pd.to_numeric(df['end_year'])\n",
    "\n",
    "# updating all end years with - (eg:-2021-) to 2022\n",
    "hypen=[]\n",
    "for i in range(len(df)):\n",
    "    if df['hypen_year'][i]==1:\n",
    "        hypen.append(2022)\n",
    "    else:\n",
    "        hypen.append(df['end_year'][i])\n",
    "df['end_year']=hypen\n",
    "\n",
    "df['Num_years']=df['end_year']-df['beg_year']\n",
    "df.beg_year.fillna(0,inplace=True)\n",
    "df.end_year.fillna(0,inplace=True)\n",
    "df.Num_years.fillna(0,inplace=True)"
   ]
  },
  {
   "cell_type": "markdown",
   "id": "f2618e06",
   "metadata": {
    "papermill": {
     "duration": 0.008584,
     "end_time": "2022-10-14T11:32:14.096070",
     "exception": false,
     "start_time": "2022-10-14T11:32:14.087486",
     "status": "completed"
    },
    "tags": []
   },
   "source": [
    "### 2.2 Filling up the missing values "
   ]
  },
  {
   "cell_type": "code",
   "execution_count": 6,
   "id": "01bb4bdc",
   "metadata": {
    "execution": {
     "iopub.execute_input": "2022-10-14T11:32:14.115665Z",
     "iopub.status.busy": "2022-10-14T11:32:14.114029Z",
     "iopub.status.idle": "2022-10-14T11:32:14.135208Z",
     "shell.execute_reply": "2022-10-14T11:32:14.134337Z"
    },
    "papermill": {
     "duration": 0.033323,
     "end_time": "2022-10-14T11:32:14.137661",
     "exception": false,
     "start_time": "2022-10-14T11:32:14.104338",
     "status": "completed"
    },
    "tags": []
   },
   "outputs": [],
   "source": [
    "df['VOTES']=df['VOTES'].str.replace(\",\",\"\")\n",
    "df['VOTES']=pd.to_numeric(df['VOTES'])\n",
    "df['VOTES']=df['VOTES'].fillna(df.VOTES.median())\n",
    "\n",
    "df['RunTime']=df['RunTime'].fillna(df.RunTime.median())\n",
    "\n",
    "df['RATING']=df['RATING'].fillna(df.RATING.median())\n",
    "\n",
    "df['Gross'].fillna(\"0\",inplace=True)\n"
   ]
  },
  {
   "cell_type": "markdown",
   "id": "5a5f74a3",
   "metadata": {
    "papermill": {
     "duration": 0.008423,
     "end_time": "2022-10-14T11:32:14.154599",
     "exception": false,
     "start_time": "2022-10-14T11:32:14.146176",
     "status": "completed"
    },
    "tags": []
   },
   "source": [
    "### 2.3 Creating features using genre column "
   ]
  },
  {
   "cell_type": "code",
   "execution_count": 7,
   "id": "f14c4492",
   "metadata": {
    "execution": {
     "iopub.execute_input": "2022-10-14T11:32:14.173233Z",
     "iopub.status.busy": "2022-10-14T11:32:14.172346Z",
     "iopub.status.idle": "2022-10-14T11:32:14.252018Z",
     "shell.execute_reply": "2022-10-14T11:32:14.250986Z"
    },
    "papermill": {
     "duration": 0.091216,
     "end_time": "2022-10-14T11:32:14.254054",
     "exception": false,
     "start_time": "2022-10-14T11:32:14.162838",
     "status": "completed"
    },
    "tags": []
   },
   "outputs": [
    {
     "data": {
      "text/plain": [
       "[(('Drama',), 4325),\n",
       " (('Comedy',), 2832),\n",
       " (('Action',), 2258),\n",
       " (('Adventure',), 1792),\n",
       " (('Animation',), 1732),\n",
       " (('Crime',), 1566),\n",
       " (('Documentary',), 1224),\n",
       " (('Thriller',), 910),\n",
       " (('Mystery',), 880),\n",
       " (('Romance',), 853)]"
      ]
     },
     "execution_count": 7,
     "metadata": {},
     "output_type": "execute_result"
    }
   ],
   "source": [
    "## Extracting the string values in genre's column\n",
    "\n",
    "df['GENRE'] = df['GENRE'].apply(lambda x: str(x).split(\"\\n\")[-1]) ## to remove \"\\n\" and fetch the value of the genre's\n",
    "\n",
    "df['GENRE'] = df['GENRE'].str.replace(' ', '') ## There are multiple unncessary spaces in genre \n",
    "\n",
    "df.head()\n",
    "\n",
    "\n",
    "## Counting the number of movies in which each genre is featured\n",
    "\n",
    "from itertools import combinations\n",
    "from collections import Counter\n",
    "\n",
    "count=Counter()\n",
    "\n",
    "for row in df['GENRE']:\n",
    "    row_split=row.split(\",\")\n",
    "    count.update(Counter(combinations(row_split,1)))\n",
    "    \n",
    "count.most_common(10)"
   ]
  },
  {
   "cell_type": "code",
   "execution_count": 8,
   "id": "e96999ec",
   "metadata": {
    "execution": {
     "iopub.execute_input": "2022-10-14T11:32:14.272813Z",
     "iopub.status.busy": "2022-10-14T11:32:14.272505Z",
     "iopub.status.idle": "2022-10-14T11:35:36.926002Z",
     "shell.execute_reply": "2022-10-14T11:35:36.924820Z"
    },
    "papermill": {
     "duration": 202.665856,
     "end_time": "2022-10-14T11:35:36.928534",
     "exception": false,
     "start_time": "2022-10-14T11:32:14.262678",
     "status": "completed"
    },
    "tags": []
   },
   "outputs": [],
   "source": [
    "## getting all genres in a list format\n",
    "\n",
    "genre=[]\n",
    "\n",
    "for i,key in enumerate(count):\n",
    "    genre.append(str(key).split(\"(\")[-1].split(\"'\")[1]) ## getting rid of unncessary parts of the string\n",
    "\n",
    "## creating columns for each genre and updating the respecting values\n",
    "\n",
    "df[genre]=0\n",
    "\n",
    "for i in range(len(df)):\n",
    "    for j in range(len(genre)):\n",
    "        df_temp=pd.DataFrame([df.GENRE[i]],columns=[\"genre\"]) ## creating a temperory dataframe for using str.contains function on each row of genre.\n",
    "        if df_temp['genre'].str.contains(genre[j]).sum()==1:\n",
    "            df[genre[j]][i]=1\n",
    "        else:\n",
    "            pass\n",
    "        \n",
    "## `This cell will take time to run.`"
   ]
  },
  {
   "cell_type": "code",
   "execution_count": 9,
   "id": "738463d6",
   "metadata": {
    "execution": {
     "iopub.execute_input": "2022-10-14T11:35:36.949260Z",
     "iopub.status.busy": "2022-10-14T11:35:36.947447Z",
     "iopub.status.idle": "2022-10-14T11:35:36.961233Z",
     "shell.execute_reply": "2022-10-14T11:35:36.960366Z"
    },
    "papermill": {
     "duration": 0.025828,
     "end_time": "2022-10-14T11:35:36.963408",
     "exception": false,
     "start_time": "2022-10-14T11:35:36.937580",
     "status": "completed"
    },
    "scrolled": true,
    "tags": []
   },
   "outputs": [],
   "source": [
    "df_new =df.copy() ## creating a copy of the data is useful because such commitments to the data can lead to complications."
   ]
  },
  {
   "cell_type": "markdown",
   "id": "fc36aee3",
   "metadata": {
    "papermill": {
     "duration": 0.008269,
     "end_time": "2022-10-14T11:35:36.980279",
     "exception": false,
     "start_time": "2022-10-14T11:35:36.972010",
     "status": "completed"
    },
    "tags": []
   },
   "source": [
    "### 2.4 Cleaning Stars Column ( separating actors and directors )"
   ]
  },
  {
   "cell_type": "code",
   "execution_count": 10,
   "id": "a9e77f62",
   "metadata": {
    "execution": {
     "iopub.execute_input": "2022-10-14T11:35:36.998882Z",
     "iopub.status.busy": "2022-10-14T11:35:36.998260Z",
     "iopub.status.idle": "2022-10-14T11:35:37.048093Z",
     "shell.execute_reply": "2022-10-14T11:35:37.046983Z"
    },
    "papermill": {
     "duration": 0.062107,
     "end_time": "2022-10-14T11:35:37.050809",
     "exception": false,
     "start_time": "2022-10-14T11:35:36.988702",
     "status": "completed"
    },
    "tags": []
   },
   "outputs": [],
   "source": [
    "df['director']=df['STARS'].apply(lambda x: str(x).split(\"Star\")[0])\n",
    "df['actors'] = df['STARS'].apply(lambda x: str(x).split(\"Star\")[-1])\n",
    "\n",
    "df['actors']=df['actors'].str.replace(\"\\n\",\"\").str.replace(\"s:\",\"\")\n",
    "df['director']= df['director'].apply(lambda x: x.split(\":\")[-1]).str.replace(\"\\n\",\"\").str.replace(\"|\",\"\")"
   ]
  },
  {
   "cell_type": "code",
   "execution_count": 11,
   "id": "2318fe6b",
   "metadata": {
    "execution": {
     "iopub.execute_input": "2022-10-14T11:35:37.069284Z",
     "iopub.status.busy": "2022-10-14T11:35:37.068974Z",
     "iopub.status.idle": "2022-10-14T11:35:37.152982Z",
     "shell.execute_reply": "2022-10-14T11:35:37.151904Z"
    },
    "papermill": {
     "duration": 0.096286,
     "end_time": "2022-10-14T11:35:37.155648",
     "exception": false,
     "start_time": "2022-10-14T11:35:37.059362",
     "status": "completed"
    },
    "scrolled": true,
    "tags": []
   },
   "outputs": [
    {
     "data": {
      "text/plain": [
       "[(('',), 457),\n",
       " (('maewhitman',), 68),\n",
       " (('jackdesena',), 66),\n",
       " (('zachtyler',), 62),\n",
       " (('emmanuelesparza',), 61),\n",
       " (('essinedaponte',), 61),\n",
       " (('manuelnavarro',), 61),\n",
       " (('masakazumorita',), 59),\n",
       " (('álvarobenet',), 58),\n",
       " (('michaelc.hall',), 52)]"
      ]
     },
     "execution_count": 11,
     "metadata": {},
     "output_type": "execute_result"
    }
   ],
   "source": [
    "famous_actors = df['actors'].str.lower().str.replace(\" \",\"\")\n",
    "\n",
    "from itertools import combinations\n",
    "from collections import Counter\n",
    "\n",
    "count=Counter()\n",
    "for row in famous_actors:\n",
    "    row_split=row.split(\",\")\n",
    "    count.update(Counter(combinations(row_split,1)))\n",
    "    \n",
    "count.most_common(10)"
   ]
  },
  {
   "cell_type": "code",
   "execution_count": 12,
   "id": "c8c44ec4",
   "metadata": {
    "execution": {
     "iopub.execute_input": "2022-10-14T11:35:37.174381Z",
     "iopub.status.busy": "2022-10-14T11:35:37.174084Z",
     "iopub.status.idle": "2022-10-14T11:35:37.196555Z",
     "shell.execute_reply": "2022-10-14T11:35:37.195633Z"
    },
    "papermill": {
     "duration": 0.034313,
     "end_time": "2022-10-14T11:35:37.198628",
     "exception": false,
     "start_time": "2022-10-14T11:35:37.164315",
     "status": "completed"
    },
    "tags": []
   },
   "outputs": [],
   "source": [
    "## Dropping irrelevent columns\n",
    "df_cleaned = df.drop([\"STARS\",'YEAR', 'hypen_year', 'end_year'],axis=1)\n",
    "df_cleaned.drop_duplicates(\"MOVIES\",inplace=True)"
   ]
  },
  {
   "cell_type": "code",
   "execution_count": 13,
   "id": "d7a680af",
   "metadata": {
    "execution": {
     "iopub.execute_input": "2022-10-14T11:35:37.219367Z",
     "iopub.status.busy": "2022-10-14T11:35:37.218393Z",
     "iopub.status.idle": "2022-10-14T11:35:37.241601Z",
     "shell.execute_reply": "2022-10-14T11:35:37.240484Z"
    },
    "papermill": {
     "duration": 0.036896,
     "end_time": "2022-10-14T11:35:37.244031",
     "exception": false,
     "start_time": "2022-10-14T11:35:37.207135",
     "status": "completed"
    },
    "scrolled": true,
    "tags": []
   },
   "outputs": [
    {
     "data": {
      "text/html": [
       "<div>\n",
       "<style scoped>\n",
       "    .dataframe tbody tr th:only-of-type {\n",
       "        vertical-align: middle;\n",
       "    }\n",
       "\n",
       "    .dataframe tbody tr th {\n",
       "        vertical-align: top;\n",
       "    }\n",
       "\n",
       "    .dataframe thead th {\n",
       "        text-align: right;\n",
       "    }\n",
       "</style>\n",
       "<table border=\"1\" class=\"dataframe\">\n",
       "  <thead>\n",
       "    <tr style=\"text-align: right;\">\n",
       "      <th></th>\n",
       "      <th>MOVIES</th>\n",
       "      <th>GENRE</th>\n",
       "      <th>RATING</th>\n",
       "      <th>ONE-LINE</th>\n",
       "      <th>VOTES</th>\n",
       "      <th>RunTime</th>\n",
       "      <th>Gross</th>\n",
       "      <th>beg_year</th>\n",
       "      <th>Num_years</th>\n",
       "      <th>Action</th>\n",
       "      <th>...</th>\n",
       "      <th>Reality-TV</th>\n",
       "      <th>Musical</th>\n",
       "      <th>War</th>\n",
       "      <th>Western</th>\n",
       "      <th>Film-Noir</th>\n",
       "      <th>nan</th>\n",
       "      <th>Talk-Show</th>\n",
       "      <th>News</th>\n",
       "      <th>director</th>\n",
       "      <th>actors</th>\n",
       "    </tr>\n",
       "  </thead>\n",
       "  <tbody>\n",
       "    <tr>\n",
       "      <th>0</th>\n",
       "      <td>Blood Red Sky</td>\n",
       "      <td>Action,Horror,Thriller</td>\n",
       "      <td>6.1</td>\n",
       "      <td>\\nA woman with a mysterious illness is forced ...</td>\n",
       "      <td>21062.0</td>\n",
       "      <td>121.0</td>\n",
       "      <td>0</td>\n",
       "      <td>2021.0</td>\n",
       "      <td>0.0</td>\n",
       "      <td>1</td>\n",
       "      <td>...</td>\n",
       "      <td>0</td>\n",
       "      <td>0</td>\n",
       "      <td>0</td>\n",
       "      <td>0</td>\n",
       "      <td>0</td>\n",
       "      <td>0</td>\n",
       "      <td>0</td>\n",
       "      <td>0</td>\n",
       "      <td>Peter Thorwarth</td>\n",
       "      <td>Peri Baumeister, Carl Anton Koch, Alexander Sc...</td>\n",
       "    </tr>\n",
       "    <tr>\n",
       "      <th>1</th>\n",
       "      <td>Masters of the Universe: Revelation</td>\n",
       "      <td>Animation,Action,Adventure</td>\n",
       "      <td>5.0</td>\n",
       "      <td>\\nThe war for Eternia begins again in what may...</td>\n",
       "      <td>17870.0</td>\n",
       "      <td>25.0</td>\n",
       "      <td>0</td>\n",
       "      <td>2021.0</td>\n",
       "      <td>1.0</td>\n",
       "      <td>1</td>\n",
       "      <td>...</td>\n",
       "      <td>0</td>\n",
       "      <td>0</td>\n",
       "      <td>0</td>\n",
       "      <td>0</td>\n",
       "      <td>0</td>\n",
       "      <td>0</td>\n",
       "      <td>0</td>\n",
       "      <td>0</td>\n",
       "      <td></td>\n",
       "      <td>Chris Wood, Sarah Michelle Gellar, Lena Headey...</td>\n",
       "    </tr>\n",
       "    <tr>\n",
       "      <th>2</th>\n",
       "      <td>The Walking Dead</td>\n",
       "      <td>Drama,Horror,Thriller</td>\n",
       "      <td>8.2</td>\n",
       "      <td>\\nSheriff Deputy Rick Grimes wakes up from a c...</td>\n",
       "      <td>885805.0</td>\n",
       "      <td>44.0</td>\n",
       "      <td>0</td>\n",
       "      <td>2010.0</td>\n",
       "      <td>12.0</td>\n",
       "      <td>0</td>\n",
       "      <td>...</td>\n",
       "      <td>0</td>\n",
       "      <td>0</td>\n",
       "      <td>0</td>\n",
       "      <td>0</td>\n",
       "      <td>0</td>\n",
       "      <td>0</td>\n",
       "      <td>0</td>\n",
       "      <td>0</td>\n",
       "      <td></td>\n",
       "      <td>Andrew Lincoln, Norman Reedus, Melissa McBride...</td>\n",
       "    </tr>\n",
       "    <tr>\n",
       "      <th>3</th>\n",
       "      <td>Rick and Morty</td>\n",
       "      <td>Animation,Adventure,Comedy</td>\n",
       "      <td>9.2</td>\n",
       "      <td>\\nAn animated series that follows the exploits...</td>\n",
       "      <td>414849.0</td>\n",
       "      <td>23.0</td>\n",
       "      <td>0</td>\n",
       "      <td>2013.0</td>\n",
       "      <td>9.0</td>\n",
       "      <td>0</td>\n",
       "      <td>...</td>\n",
       "      <td>0</td>\n",
       "      <td>0</td>\n",
       "      <td>0</td>\n",
       "      <td>0</td>\n",
       "      <td>0</td>\n",
       "      <td>0</td>\n",
       "      <td>0</td>\n",
       "      <td>0</td>\n",
       "      <td></td>\n",
       "      <td>Justin Roiland, Chris Parnell, Spencer Grammer...</td>\n",
       "    </tr>\n",
       "    <tr>\n",
       "      <th>4</th>\n",
       "      <td>Army of Thieves</td>\n",
       "      <td>Action,Crime,Horror</td>\n",
       "      <td>7.1</td>\n",
       "      <td>\\nA prequel, set before the events of Army of ...</td>\n",
       "      <td>789.0</td>\n",
       "      <td>60.0</td>\n",
       "      <td>0</td>\n",
       "      <td>2021.0</td>\n",
       "      <td>0.0</td>\n",
       "      <td>1</td>\n",
       "      <td>...</td>\n",
       "      <td>0</td>\n",
       "      <td>0</td>\n",
       "      <td>0</td>\n",
       "      <td>0</td>\n",
       "      <td>0</td>\n",
       "      <td>0</td>\n",
       "      <td>0</td>\n",
       "      <td>0</td>\n",
       "      <td>Matthias Schweighöfer</td>\n",
       "      <td>Matthias Schweighöfer, Nathalie Emmanuel, Ruby...</td>\n",
       "    </tr>\n",
       "  </tbody>\n",
       "</table>\n",
       "<p>5 rows × 39 columns</p>\n",
       "</div>"
      ],
      "text/plain": [
       "                                MOVIES                       GENRE  RATING  \\\n",
       "0                        Blood Red Sky      Action,Horror,Thriller     6.1   \n",
       "1  Masters of the Universe: Revelation  Animation,Action,Adventure     5.0   \n",
       "2                     The Walking Dead       Drama,Horror,Thriller     8.2   \n",
       "3                       Rick and Morty  Animation,Adventure,Comedy     9.2   \n",
       "4                      Army of Thieves         Action,Crime,Horror     7.1   \n",
       "\n",
       "                                            ONE-LINE     VOTES  RunTime Gross  \\\n",
       "0  \\nA woman with a mysterious illness is forced ...   21062.0    121.0     0   \n",
       "1  \\nThe war for Eternia begins again in what may...   17870.0     25.0     0   \n",
       "2  \\nSheriff Deputy Rick Grimes wakes up from a c...  885805.0     44.0     0   \n",
       "3  \\nAn animated series that follows the exploits...  414849.0     23.0     0   \n",
       "4  \\nA prequel, set before the events of Army of ...     789.0     60.0     0   \n",
       "\n",
       "   beg_year  Num_years  Action  ...  Reality-TV  Musical  War  Western  \\\n",
       "0    2021.0        0.0       1  ...           0        0    0        0   \n",
       "1    2021.0        1.0       1  ...           0        0    0        0   \n",
       "2    2010.0       12.0       0  ...           0        0    0        0   \n",
       "3    2013.0        9.0       0  ...           0        0    0        0   \n",
       "4    2021.0        0.0       1  ...           0        0    0        0   \n",
       "\n",
       "   Film-Noir  nan  Talk-Show  News                    director  \\\n",
       "0          0    0          0     0        Peter Thorwarth        \n",
       "1          0    0          0     0                               \n",
       "2          0    0          0     0                               \n",
       "3          0    0          0     0                               \n",
       "4          0    0          0     0  Matthias Schweighöfer        \n",
       "\n",
       "                                              actors  \n",
       "0  Peri Baumeister, Carl Anton Koch, Alexander Sc...  \n",
       "1  Chris Wood, Sarah Michelle Gellar, Lena Headey...  \n",
       "2  Andrew Lincoln, Norman Reedus, Melissa McBride...  \n",
       "3  Justin Roiland, Chris Parnell, Spencer Grammer...  \n",
       "4  Matthias Schweighöfer, Nathalie Emmanuel, Ruby...  \n",
       "\n",
       "[5 rows x 39 columns]"
      ]
     },
     "execution_count": 13,
     "metadata": {},
     "output_type": "execute_result"
    }
   ],
   "source": [
    "df_cleaned.head()"
   ]
  },
  {
   "cell_type": "markdown",
   "id": "fc733eb0",
   "metadata": {
    "papermill": {
     "duration": 0.008542,
     "end_time": "2022-10-14T11:35:37.261770",
     "exception": false,
     "start_time": "2022-10-14T11:35:37.253228",
     "status": "completed"
    },
    "tags": []
   },
   "source": [
    "**You can use this cleaned data to further perform EDA or build some algorithm to predict the ratings of a movie or build a movie recommendation system.**"
   ]
  },
  {
   "cell_type": "markdown",
   "id": "89ddd8d9",
   "metadata": {
    "papermill": {
     "duration": 0.008547,
     "end_time": "2022-10-14T11:35:37.279001",
     "exception": false,
     "start_time": "2022-10-14T11:35:37.270454",
     "status": "completed"
    },
    "tags": []
   },
   "source": [
    "## 3.Exploratory Data Analysis"
   ]
  },
  {
   "cell_type": "markdown",
   "id": "787337a5",
   "metadata": {
    "papermill": {
     "duration": 0.00848,
     "end_time": "2022-10-14T11:35:37.296474",
     "exception": false,
     "start_time": "2022-10-14T11:35:37.287994",
     "status": "completed"
    },
    "tags": []
   },
   "source": [
    "### 3.1 Top Grossing Movies"
   ]
  },
  {
   "cell_type": "code",
   "execution_count": 14,
   "id": "3f10047a",
   "metadata": {
    "execution": {
     "iopub.execute_input": "2022-10-14T11:35:37.314813Z",
     "iopub.status.busy": "2022-10-14T11:35:37.314475Z",
     "iopub.status.idle": "2022-10-14T11:35:37.635582Z",
     "shell.execute_reply": "2022-10-14T11:35:37.634554Z"
    },
    "papermill": {
     "duration": 0.333092,
     "end_time": "2022-10-14T11:35:37.637909",
     "exception": false,
     "start_time": "2022-10-14T11:35:37.304817",
     "status": "completed"
    },
    "scrolled": true,
    "tags": []
   },
   "outputs": [
    {
     "data": {
      "text/plain": [
       "Text(0.5, 1.0, 'TOP GROSSING MOVIES')"
      ]
     },
     "execution_count": 14,
     "metadata": {},
     "output_type": "execute_result"
    },
    {
     "data": {
      "image/png": "[encoded data removed]",
      "text/plain": [
       "<Figure size 720x360 with 1 Axes>"
      ]
     },
     "metadata": {
      "needs_background": "light"
     },
     "output_type": "display_data"
    }
   ],
   "source": [
    "df['Gross']=df['Gross'].str.replace(\"$\",\"\").str.replace(\"M\",\"\")\n",
    "df['New_Gross'] = pd.to_numeric(df['Gross'])\n",
    "df['New_Gross']=df['New_Gross']*1000000\n",
    "gross_amount = df['Gross'].sort_values(ascending=False).values[:10]\n",
    "gross_amount = [float(i)*1000000 for i in gross_amount]\n",
    "idx = df['Gross'].sort_values(ascending=False).index[:10]\n",
    "movies=df.iloc[idx]['MOVIES']\n",
    "\n",
    "plt.figure(figsize=(10,5))\n",
    "sns.barplot(x=movies,y=gross_amount,palette=\"autumn\")\n",
    "plt.xlabel(\"Grossing_amount\")\n",
    "plt.ylabel(\"Movies\")\n",
    "plt.xticks(rotation=90)\n",
    "current_values = plt.gca().get_yticks()\n",
    "plt.gca().set_yticklabels(['{:.0f}'.format(x) for x in current_values])\n",
    "plt.title(label=\"TOP GROSSING MOVIES\")"
   ]
  },
  {
   "cell_type": "markdown",
   "id": "86591f9c",
   "metadata": {
    "papermill": {
     "duration": 0.009159,
     "end_time": "2022-10-14T11:35:37.656477",
     "exception": false,
     "start_time": "2022-10-14T11:35:37.647318",
     "status": "completed"
    },
    "tags": []
   },
   "source": [
    "### 3.2 Voting recieved by all movies(top 10)"
   ]
  },
  {
   "cell_type": "code",
   "execution_count": 15,
   "id": "a53058a3",
   "metadata": {
    "execution": {
     "iopub.execute_input": "2022-10-14T11:35:37.675875Z",
     "iopub.status.busy": "2022-10-14T11:35:37.675537Z",
     "iopub.status.idle": "2022-10-14T11:35:37.984439Z",
     "shell.execute_reply": "2022-10-14T11:35:37.983437Z"
    },
    "papermill": {
     "duration": 0.321287,
     "end_time": "2022-10-14T11:35:37.986748",
     "exception": false,
     "start_time": "2022-10-14T11:35:37.665461",
     "status": "completed"
    },
    "tags": []
   },
   "outputs": [
    {
     "data": {
      "text/plain": [
       "Text(0.5, 1.0, 'MOST VOTED MOVIES')"
      ]
     },
     "execution_count": 15,
     "metadata": {},
     "output_type": "execute_result"
    },
    {
     "data": {
      "image/png": "[encoded data removed]",
      "text/plain": [
       "<Figure size 864x504 with 1 Axes>"
      ]
     },
     "metadata": {
      "needs_background": "light"
     },
     "output_type": "display_data"
    }
   ],
   "source": [
    "movies = df_cleaned.groupby(\"MOVIES\")['VOTES'].sum().sort_values(ascending=False).reset_index(name=\"VOTES\")[0:10]\n",
    "plt.figure(figsize=(12,7))\n",
    "font = {'color':  'navy',\n",
    "        'weight': 'normal',\n",
    "        'size': 20,\n",
    "        }\n",
    "sns.barplot(y='MOVIES',x='VOTES',data=movies,palette=\"icefire\")\n",
    "plt.ylabel(\"Movies\",fontdict=font)\n",
    "plt.xlabel(\"Number of Votes\",fontdict=font)\n",
    "plt.yticks(rotation=0)\n",
    "current_values = plt.gca().get_xticks()\n",
    "plt.gca().set_xticklabels(['{:.0f}'.format(x) for x in current_values])\n",
    "plt.title(label=\"MOST VOTED MOVIES\",fontdict=font)"
   ]
  },
  {
   "cell_type": "markdown",
   "id": "1c5b48ef",
   "metadata": {
    "papermill": {
     "duration": 0.009803,
     "end_time": "2022-10-14T11:35:38.007118",
     "exception": false,
     "start_time": "2022-10-14T11:35:37.997315",
     "status": "completed"
    },
    "tags": []
   },
   "source": [
    "### 3.3 Which genre is most Popuular among viewers"
   ]
  },
  {
   "cell_type": "code",
   "execution_count": 16,
   "id": "8e79b9ee",
   "metadata": {
    "execution": {
     "iopub.execute_input": "2022-10-14T11:35:38.029225Z",
     "iopub.status.busy": "2022-10-14T11:35:38.028233Z",
     "iopub.status.idle": "2022-10-14T11:35:38.070591Z",
     "shell.execute_reply": "2022-10-14T11:35:38.069630Z"
    },
    "papermill": {
     "duration": 0.055493,
     "end_time": "2022-10-14T11:35:38.072804",
     "exception": false,
     "start_time": "2022-10-14T11:35:38.017311",
     "status": "completed"
    },
    "tags": []
   },
   "outputs": [],
   "source": [
    "## Counting the number of movies in which each genre is featured\n",
    "\n",
    "from itertools import combinations\n",
    "from collections import Counter\n",
    "\n",
    "count=Counter()\n",
    "\n",
    "for row in df_cleaned['GENRE']:\n",
    "    row_split=row.split(\",\")\n",
    "    count.update(Counter(combinations(row_split,1)))\n",
    "genre_counter = count\n",
    "genre_count = dict(count.most_common(10))"
   ]
  },
  {
   "cell_type": "code",
   "execution_count": 17,
   "id": "6776abd8",
   "metadata": {
    "execution": {
     "iopub.execute_input": "2022-10-14T11:35:38.094594Z",
     "iopub.status.busy": "2022-10-14T11:35:38.094279Z",
     "iopub.status.idle": "2022-10-14T11:35:38.352083Z",
     "shell.execute_reply": "2022-10-14T11:35:38.351186Z"
    },
    "papermill": {
     "duration": 0.271283,
     "end_time": "2022-10-14T11:35:38.354323",
     "exception": false,
     "start_time": "2022-10-14T11:35:38.083040",
     "status": "completed"
    },
    "tags": []
   },
   "outputs": [
    {
     "data": {
      "text/plain": [
       "Text(0.5, 1.0, 'MOST POPULAR GENRE')"
      ]
     },
     "execution_count": 17,
     "metadata": {},
     "output_type": "execute_result"
    },
    {
     "data": {
      "image/png": "[encoded data removed]",
      "text/plain": [
       "<Figure size 720x360 with 1 Axes>"
      ]
     },
     "metadata": {
      "needs_background": "light"
     },
     "output_type": "display_data"
    }
   ],
   "source": [
    "genres = list(genre_count.keys())\n",
    "genres = [str(a).replace(\",\",\"\").replace(\")\",\"\").replace(\"(\",\"\").replace(\"'\",\"\") for a in genres]\n",
    "\n",
    "count_of_genres = list(genre_count.values())\n",
    "\n",
    "\n",
    "plt.figure(figsize=(10,5))\n",
    "font = {'color':  'navy',\n",
    "        'weight': 'normal',\n",
    "        'size': 20,\n",
    "        }\n",
    "\n",
    "sns.barplot(x=genres,y=count_of_genres,palette=\"dark\")\n",
    "plt.xlabel(\"Genre's\",\n",
    "           fontdict=font)\n",
    "\n",
    "plt.ylabel(\"Popualarity\"\n",
    "           ,fontdict=font)\n",
    "\n",
    "plt.xticks(rotation=90)\n",
    "\n",
    "current_values = plt.gca().get_yticks()\n",
    "plt.gca().set_yticklabels(['{:.0f}'.format(x) for x in current_values])\n",
    "\n",
    "plt.title(label=\"MOST POPULAR GENRE\",fontdict=font)"
   ]
  },
  {
   "cell_type": "code",
   "execution_count": 18,
   "id": "59882872",
   "metadata": {
    "execution": {
     "iopub.execute_input": "2022-10-14T11:35:38.376668Z",
     "iopub.status.busy": "2022-10-14T11:35:38.376330Z",
     "iopub.status.idle": "2022-10-14T11:35:38.394708Z",
     "shell.execute_reply": "2022-10-14T11:35:38.393660Z"
    },
    "papermill": {
     "duration": 0.032139,
     "end_time": "2022-10-14T11:35:38.397241",
     "exception": false,
     "start_time": "2022-10-14T11:35:38.365102",
     "status": "completed"
    },
    "tags": []
   },
   "outputs": [
    {
     "data": {
      "text/html": [
       "<div>\n",
       "<style scoped>\n",
       "    .dataframe tbody tr th:only-of-type {\n",
       "        vertical-align: middle;\n",
       "    }\n",
       "\n",
       "    .dataframe tbody tr th {\n",
       "        vertical-align: top;\n",
       "    }\n",
       "\n",
       "    .dataframe thead th {\n",
       "        text-align: right;\n",
       "    }\n",
       "</style>\n",
       "<table border=\"1\" class=\"dataframe\">\n",
       "  <thead>\n",
       "    <tr style=\"text-align: right;\">\n",
       "      <th></th>\n",
       "      <th>Count</th>\n",
       "    </tr>\n",
       "  </thead>\n",
       "  <tbody>\n",
       "    <tr>\n",
       "      <th>Action</th>\n",
       "      <td>1210</td>\n",
       "    </tr>\n",
       "    <tr>\n",
       "      <th>Horror</th>\n",
       "      <td>417</td>\n",
       "    </tr>\n",
       "    <tr>\n",
       "      <th>Thriller</th>\n",
       "      <td>658</td>\n",
       "    </tr>\n",
       "    <tr>\n",
       "      <th>Animation</th>\n",
       "      <td>926</td>\n",
       "    </tr>\n",
       "    <tr>\n",
       "      <th>Adventure</th>\n",
       "      <td>882</td>\n",
       "    </tr>\n",
       "  </tbody>\n",
       "</table>\n",
       "</div>"
      ],
      "text/plain": [
       "           Count\n",
       "Action      1210\n",
       "Horror       417\n",
       "Thriller     658\n",
       "Animation    926\n",
       "Adventure    882"
      ]
     },
     "execution_count": 18,
     "metadata": {},
     "output_type": "execute_result"
    }
   ],
   "source": [
    "genre_raw = df_cleaned['GENRE'].dropna().to_list()\n",
    "genre_list = list()\n",
    "\n",
    "for genres in genre_raw:\n",
    "    genres = genres.split(\",\")\n",
    "    for g in genres:\n",
    "        genre_list.append(g)\n",
    "        \n",
    "genre_df = pd.DataFrame.from_dict(Counter(genre_list), orient = 'index').rename(columns = {0:'Count'})\n",
    "genre_df.head()"
   ]
  },
  {
   "cell_type": "code",
   "execution_count": 19,
   "id": "1968e4b8",
   "metadata": {
    "execution": {
     "iopub.execute_input": "2022-10-14T11:35:38.419239Z",
     "iopub.status.busy": "2022-10-14T11:35:38.418938Z",
     "iopub.status.idle": "2022-10-14T11:35:39.352741Z",
     "shell.execute_reply": "2022-10-14T11:35:39.351673Z"
    },
    "papermill": {
     "duration": 0.948816,
     "end_time": "2022-10-14T11:35:39.356349",
     "exception": false,
     "start_time": "2022-10-14T11:35:38.407533",
     "status": "completed"
    },
    "tags": []
   },
   "outputs": [
    {
     "data": {
      "application/vnd.plotly.v1+json": {
       "config": {
        "plotlyServerURL": "https://plot.ly"
       },
       "data": [
        {
         "domain": {
          "x": [
           0,
           1
          ],
          "y": [
           0,
           1
          ]
         },
         "hovertemplate": "index=%{label}<br>Count=%{value}<extra></extra>",
         "labels": [
          "Action",
          "Horror",
          "Thriller",
          "Animation",
          "Adventure",
          "Drama",
          "Comedy",
          "Crime",
          "Romance",
          "Mystery",
          "Fantasy",
          "History",
          "Sci-Fi",
          "Biography",
          "Family",
          "Documentary",
          "Music",
          "Sport",
          "Short",
          "Game-Show",
          "Reality-TV",
          "Musical",
          "War",
          "Western",
          "Film-Noir",
          "nan",
          "Talk-Show",
          "News"
         ],
         "legendgroup": "",
         "name": "",
         "pull": [
          0.05,
          0.05,
          0.05,
          0.05,
          0.05,
          0.05,
          0.05,
          0.05,
          0.05,
          0.05,
          0.05,
          0.05,
          0.05,
          0.05,
          0.05,
          0.05,
          0.05,
          0.05,
          0.05,
          0.05,
          0.05,
          0.05,
          0.05,
          0.05,
          0.05,
          0.05,
          0.05,
          0.05
         ],
         "showlegend": true,
         "textinfo": "label+percent",
         "textposition": "inside",
         "type": "pie",
         "values": [
          1210,
          417,
          658,
          926,
          882,
          2742,
          2107,
          938,
          686,
          456,
          373,
          217,
          218,
          272,
          347,
          1004,
          173,
          140,
          221,
          35,
          205,
          47,
          48,
          24,
          11,
          71,
          31,
          20
         ]
        }
       ],
       "layout": {
        "font": {
         "color": "black",
         "family": "Courier New, monospace",
         "size": 18
        },
        "legend": {
         "title": {
          "text": "Genre"
         },
         "tracegroupgap": 0
        },
        "margin": {
         "t": 60
        },
        "piecolorway": [
         "rgb(136, 204, 238)",
         "rgb(204, 102, 119)",
         "rgb(221, 204, 119)",
         "rgb(17, 119, 51)",
         "rgb(51, 34, 136)",
         "rgb(170, 68, 153)",
         "rgb(68, 170, 153)",
         "rgb(153, 153, 51)",
         "rgb(136, 34, 85)",
         "rgb(102, 17, 0)",
         "rgb(136, 136, 136)"
        ],
        "template": {
         "data": {
          "bar": [
           {
            "error_x": {
             "color": "#2a3f5f"
            },
            "error_y": {
             "color": "#2a3f5f"
            },
            "marker": {
             "line": {
              "color": "#E5ECF6",
              "width": 0.5
             },
             "pattern": {
              "fillmode": "overlay",
              "size": 10,
              "solidity": 0.2
             }
            },
            "type": "bar"
           }
          ],
          "barpolar": [
           {
            "marker": {
             "line": {
              "color": "#E5ECF6",
              "width": 0.5
             },
             "pattern": {
              "fillmode": "overlay",
              "size": 10,
              "solidity": 0.2
             }
            },
            "type": "barpolar"
           }
          ],
          "carpet": [
           {
            "aaxis": {
             "endlinecolor": "#2a3f5f",
             "gridcolor": "white",
             "linecolor": "white",
             "minorgridcolor": "white",
             "startlinecolor": "#2a3f5f"
            },
            "baxis": {
             "endlinecolor": "#2a3f5f",
             "gridcolor": "white",
             "linecolor": "white",
             "minorgridcolor": "white",
             "startlinecolor": "#2a3f5f"
            },
            "type": "carpet"
           }
          ],
          "choropleth": [
           {
            "colorbar": {
             "outlinewidth": 0,
             "ticks": ""
            },
            "type": "choropleth"
           }
          ],
          "contour": [
           {
            "colorbar": {
             "outlinewidth": 0,
             "ticks": ""
            },
            "colorscale": [
             [
              0,
              "#0d0887"
             ],
             [
              0.1111111111111111,
              "#46039f"
             ],
             [
              0.2222222222222222,
              "#7201a8"
             ],
             [
              0.3333333333333333,
              "#9c179e"
             ],
             [
              0.4444444444444444,
              "#bd3786"
             ],
             [
              0.5555555555555556,
              "#d8576b"
             ],
             [
              0.6666666666666666,
              "#ed7953"
             ],
             [
              0.7777777777777778,
              "#fb9f3a"
             ],
             [
              0.8888888888888888,
              "#fdca26"
             ],
             [
              1,
              "#f0f921"
             ]
            ],
            "type": "contour"
           }
          ],
          "contourcarpet": [
           {
            "colorbar": {
             "outlinewidth": 0,
             "ticks": ""
            },
            "type": "contourcarpet"
           }
          ],
          "heatmap": [
           {
            "colorbar": {
             "outlinewidth": 0,
             "ticks": ""
            },
            "colorscale": [
             [
              0,
              "#0d0887"
             ],
             [
              0.1111111111111111,
              "#46039f"
             ],
             [
              0.2222222222222222,
              "#7201a8"
             ],
             [
              0.3333333333333333,
              "#9c179e"
             ],
             [
              0.4444444444444444,
              "#bd3786"
             ],
             [
              0.5555555555555556,
              "#d8576b"
             ],
             [
              0.6666666666666666,
              "#ed7953"
             ],
             [
              0.7777777777777778,
              "#fb9f3a"
             ],
             [
              0.8888888888888888,
              "#fdca26"
             ],
             [
              1,
              "#f0f921"
             ]
            ],
            "type": "heatmap"
           }
          ],
          "heatmapgl": [
           {
            "colorbar": {
             "outlinewidth": 0,
             "ticks": ""
            },
            "colorscale": [
             [
              0,
              "#0d0887"
             ],
             [
              0.1111111111111111,
              "#46039f"
             ],
             [
              0.2222222222222222,
              "#7201a8"
             ],
             [
              0.3333333333333333,
              "#9c179e"
             ],
             [
              0.4444444444444444,
              "#bd3786"
             ],
             [
              0.5555555555555556,
              "#d8576b"
             ],
             [
              0.6666666666666666,
              "#ed7953"
             ],
             [
              0.7777777777777778,
              "#fb9f3a"
             ],
             [
              0.8888888888888888,
              "#fdca26"
             ],
             [
              1,
              "#f0f921"
             ]
            ],
            "type": "heatmapgl"
           }
          ],
          "histogram": [
           {
            "marker": {
             "pattern": {
              "fillmode": "overlay",
              "size": 10,
              "solidity": 0.2
             }
            },
            "type": "histogram"
           }
          ],
          "histogram2d": [
           {
            "colorbar": {
             "outlinewidth": 0,
             "ticks": ""
            },
            "colorscale": [
             [
              0,
              "#0d0887"
             ],
             [
              0.1111111111111111,
              "#46039f"
             ],
             [
              0.2222222222222222,
              "#7201a8"
             ],
             [
              0.3333333333333333,
              "#9c179e"
             ],
             [
              0.4444444444444444,
              "#bd3786"
             ],
             [
              0.5555555555555556,
              "#d8576b"
             ],
             [
              0.6666666666666666,
              "#ed7953"
             ],
             [
              0.7777777777777778,
              "#fb9f3a"
             ],
             [
              0.8888888888888888,
              "#fdca26"
             ],
             [
              1,
              "#f0f921"
             ]
            ],
            "type": "histogram2d"
           }
          ],
          "histogram2dcontour": [
           {
            "colorbar": {
             "outlinewidth": 0,
             "ticks": ""
            },
            "colorscale": [
             [
              0,
              "#0d0887"
             ],
             [
              0.1111111111111111,
              "#46039f"
             ],
             [
              0.2222222222222222,
              "#7201a8"
             ],
             [
              0.3333333333333333,
              "#9c179e"
             ],
             [
              0.4444444444444444,
              "#bd3786"
             ],
             [
              0.5555555555555556,
              "#d8576b"
             ],
             [
              0.6666666666666666,
              "#ed7953"
             ],
             [
              0.7777777777777778,
              "#fb9f3a"
             ],
             [
              0.8888888888888888,
              "#fdca26"
             ],
             [
              1,
              "#f0f921"
             ]
            ],
            "type": "histogram2dcontour"
           }
          ],
          "mesh3d": [
           {
            "colorbar": {
             "outlinewidth": 0,
             "ticks": ""
            },
            "type": "mesh3d"
           }
          ],
          "parcoords": [
           {
            "line": {
             "colorbar": {
              "outlinewidth": 0,
              "ticks": ""
             }
            },
            "type": "parcoords"
           }
          ],
          "pie": [
           {
            "automargin": true,
            "type": "pie"
           }
          ],
          "scatter": [
           {
            "fillpattern": {
             "fillmode": "overlay",
             "size": 10,
             "solidity": 0.2
            },
            "type": "scatter"
           }
          ],
          "scatter3d": [
           {
            "line": {
             "colorbar": {
              "outlinewidth": 0,
              "ticks": ""
             }
            },
            "marker": {
             "colorbar": {
              "outlinewidth": 0,
              "ticks": ""
             }
            },
            "type": "scatter3d"
           }
          ],
          "scattercarpet": [
           {
            "marker": {
             "colorbar": {
              "outlinewidth": 0,
              "ticks": ""
             }
            },
            "type": "scattercarpet"
           }
          ],
          "scattergeo": [
           {
            "marker": {
             "colorbar": {
              "outlinewidth": 0,
              "ticks": ""
             }
            },
            "type": "scattergeo"
           }
          ],
          "scattergl": [
           {
            "marker": {
             "colorbar": {
              "outlinewidth": 0,
              "ticks": ""
             }
            },
            "type": "scattergl"
           }
          ],
          "scattermapbox": [
           {
            "marker": {
             "colorbar": {
              "outlinewidth": 0,
              "ticks": ""
             }
            },
            "type": "scattermapbox"
           }
          ],
          "scatterpolar": [
           {
            "marker": {
             "colorbar": {
              "outlinewidth": 0,
              "ticks": ""
             }
            },
            "type": "scatterpolar"
           }
          ],
          "scatterpolargl": [
           {
            "marker": {
             "colorbar": {
              "outlinewidth": 0,
              "ticks": ""
             }
            },
            "type": "scatterpolargl"
           }
          ],
          "scatterternary": [
           {
            "marker": {
             "colorbar": {
              "outlinewidth": 0,
              "ticks": ""
             }
            },
            "type": "scatterternary"
           }
          ],
          "surface": [
           {
            "colorbar": {
             "outlinewidth": 0,
             "ticks": ""
            },
            "colorscale": [
             [
              0,
              "#0d0887"
             ],
             [
              0.1111111111111111,
              "#46039f"
             ],
             [
              0.2222222222222222,
              "#7201a8"
             ],
             [
              0.3333333333333333,
              "#9c179e"
             ],
             [
              0.4444444444444444,
              "#bd3786"
             ],
             [
              0.5555555555555556,
              "#d8576b"
             ],
             [
              0.6666666666666666,
              "#ed7953"
             ],
             [
              0.7777777777777778,
              "#fb9f3a"
             ],
             [
              0.8888888888888888,
              "#fdca26"
             ],
             [
              1,
              "#f0f921"
             ]
            ],
            "type": "surface"
           }
          ],
          "table": [
           {
            "cells": {
             "fill": {
              "color": "#EBF0F8"
             },
             "line": {
              "color": "white"
             }
            },
            "header": {
             "fill": {
              "color": "#C8D4E3"
             },
             "line": {
              "color": "white"
             }
            },
            "type": "table"
           }
          ]
         },
         "layout": {
          "annotationdefaults": {
           "arrowcolor": "#2a3f5f",
           "arrowhead": 0,
           "arrowwidth": 1
          },
          "autotypenumbers": "strict",
          "coloraxis": {
           "colorbar": {
            "outlinewidth": 0,
            "ticks": ""
           }
          },
          "colorscale": {
           "diverging": [
            [
             0,
             "#8e0152"
            ],
            [
             0.1,
             "#c51b7d"
            ],
            [
             0.2,
             "#de77ae"
            ],
            [
             0.3,
             "#f1b6da"
            ],
            [
             0.4,
             "#fde0ef"
            ],
            [
             0.5,
             "#f7f7f7"
            ],
            [
             0.6,
             "#e6f5d0"
            ],
            [
             0.7,
             "#b8e186"
            ],
            [
             0.8,
             "#7fbc41"
            ],
            [
             0.9,
             "#4d9221"
            ],
            [
             1,
             "#276419"
            ]
           ],
           "sequential": [
            [
             0,
             "#0d0887"
            ],
            [
             0.1111111111111111,
             "#46039f"
            ],
            [
             0.2222222222222222,
             "#7201a8"
            ],
            [
             0.3333333333333333,
             "#9c179e"
            ],
            [
             0.4444444444444444,
             "#bd3786"
            ],
            [
             0.5555555555555556,
             "#d8576b"
            ],
            [
             0.6666666666666666,
             "#ed7953"
            ],
            [
             0.7777777777777778,
             "#fb9f3a"
            ],
            [
             0.8888888888888888,
             "#fdca26"
            ],
            [
             1,
             "#f0f921"
            ]
           ],
           "sequentialminus": [
            [
             0,
             "#0d0887"
            ],
            [
             0.1111111111111111,
             "#46039f"
            ],
            [
             0.2222222222222222,
             "#7201a8"
            ],
            [
             0.3333333333333333,
             "#9c179e"
            ],
            [
             0.4444444444444444,
             "#bd3786"
            ],
            [
             0.5555555555555556,
             "#d8576b"
            ],
            [
             0.6666666666666666,
             "#ed7953"
            ],
            [
             0.7777777777777778,
             "#fb9f3a"
            ],
            [
             0.8888888888888888,
             "#fdca26"
            ],
            [
             1,
             "#f0f921"
            ]
           ]
          },
          "colorway": [
           "#636efa",
           "#EF553B",
           "#00cc96",
           "#ab63fa",
           "#FFA15A",
           "#19d3f3",
           "#FF6692",
           "#B6E880",
           "#FF97FF",
           "#FECB52"
          ],
          "font": {
           "color": "#2a3f5f"
          },
          "geo": {
           "bgcolor": "white",
           "lakecolor": "white",
           "landcolor": "#E5ECF6",
           "showlakes": true,
           "showland": true,
           "subunitcolor": "white"
          },
          "hoverlabel": {
           "align": "left"
          },
          "hovermode": "closest",
          "mapbox": {
           "style": "light"
          },
          "paper_bgcolor": "white",
          "plot_bgcolor": "#E5ECF6",
          "polar": {
           "angularaxis": {
            "gridcolor": "white",
            "linecolor": "white",
            "ticks": ""
           },
           "bgcolor": "#E5ECF6",
           "radialaxis": {
            "gridcolor": "white",
            "linecolor": "white",
            "ticks": ""
           }
          },
          "scene": {
           "xaxis": {
            "backgroundcolor": "#E5ECF6",
            "gridcolor": "white",
            "gridwidth": 2,
            "linecolor": "white",
            "showbackground": true,
            "ticks": "",
            "zerolinecolor": "white"
           },
           "yaxis": {
            "backgroundcolor": "#E5ECF6",
            "gridcolor": "white",
            "gridwidth": 2,
            "linecolor": "white",
            "showbackground": true,
            "ticks": "",
            "zerolinecolor": "white"
           },
           "zaxis": {
            "backgroundcolor": "#E5ECF6",
            "gridcolor": "white",
            "gridwidth": 2,
            "linecolor": "white",
            "showbackground": true,
            "ticks": "",
            "zerolinecolor": "white"
           }
          },
          "shapedefaults": {
           "line": {
            "color": "#2a3f5f"
           }
          },
          "ternary": {
           "aaxis": {
            "gridcolor": "white",
            "linecolor": "white",
            "ticks": ""
           },
           "baxis": {
            "gridcolor": "white",
            "linecolor": "white",
            "ticks": ""
           },
           "bgcolor": "#E5ECF6",
           "caxis": {
            "gridcolor": "white",
            "linecolor": "white",
            "ticks": ""
           }
          },
          "title": {
           "x": 0.05
          },
          "xaxis": {
           "automargin": true,
           "gridcolor": "white",
           "linecolor": "white",
           "ticks": "",
           "title": {
            "standoff": 15
           },
           "zerolinecolor": "white",
           "zerolinewidth": 2
          },
          "yaxis": {
           "automargin": true,
           "gridcolor": "white",
           "linecolor": "white",
           "ticks": "",
           "title": {
            "standoff": 15
           },
           "zerolinecolor": "white",
           "zerolinewidth": 2
          }
         }
        },
        "title": {
         "text": "Genre Distribution"
        },
        "uniformtext": {
         "minsize": 13,
         "mode": "hide"
        }
       }
      },
      "text/html": [
       "<div>                            <div id=\"19846320-39d6-4e49-a34c-cfb92410e384\" class=\"plotly-graph-div\" style=\"height:525px; width:100%;\"></div>            <script type=\"text/javascript\">                require([\"plotly\"], function(Plotly) {                    window.PLOTLYENV=window.PLOTLYENV || {};                                    if (document.getElementById(\"19846320-39d6-4e49-a34c-cfb92410e384\")) {                    Plotly.newPlot(                        \"19846320-39d6-4e49-a34c-cfb92410e384\",                        [{\"domain\":{\"x\":[0.0,1.0],\"y\":[0.0,1.0]},\"hovertemplate\":\"index=%{label}<br>Count=%{value}<extra></extra>\",\"labels\":[\"Action\",\"Horror\",\"Thriller\",\"Animation\",\"Adventure\",\"Drama\",\"Comedy\",\"Crime\",\"Romance\",\"Mystery\",\"Fantasy\",\"History\",\"Sci-Fi\",\"Biography\",\"Family\",\"Documentary\",\"Music\",\"Sport\",\"Short\",\"Game-Show\",\"Reality-TV\",\"Musical\",\"War\",\"Western\",\"Film-Noir\",\"nan\",\"Talk-Show\",\"News\"],\"legendgroup\":\"\",\"name\":\"\",\"showlegend\":true,\"values\":[1210,417,658,926,882,2742,2107,938,686,456,373,217,218,272,347,1004,173,140,221,35,205,47,48,24,11,71,31,20],\"type\":\"pie\",\"pull\":[0.05,0.05,0.05,0.05,0.05,0.05,0.05,0.05,0.05,0.05,0.05,0.05,0.05,0.05,0.05,0.05,0.05,0.05,0.05,0.05,0.05,0.05,0.05,0.05,0.05,0.05,0.05,0.05],\"textinfo\":\"label+percent\",\"textposition\":\"inside\"}],                        {\"template\":{\"data\":{\"histogram2dcontour\":[{\"type\":\"histogram2dcontour\",\"colorbar\":{\"outlinewidth\":0,\"ticks\":\"\"},\"colorscale\":[[0.0,\"#0d0887\"],[0.1111111111111111,\"#46039f\"],[0.2222222222222222,\"#7201a8\"],[0.3333333333333333,\"#9c179e\"],[0.4444444444444444,\"#bd3786\"],[0.5555555555555556,\"#d8576b\"],[0.6666666666666666,\"#ed7953\"],[0.7777777777777778,\"#fb9f3a\"],[0.8888888888888888,\"#fdca26\"],[1.0,\"#f0f921\"]]}],\"choropleth\":[{\"type\":\"choropleth\",\"colorbar\":{\"outlinewidth\":0,\"ticks\":\"\"}}],\"histogram2d\":[{\"type\":\"histogram2d\",\"colorbar\":{\"outlinewidth\":0,\"ticks\":\"\"},\"colorscale\":[[0.0,\"#0d0887\"],[0.1111111111111111,\"#46039f\"],[0.2222222222222222,\"#7201a8\"],[0.3333333333333333,\"#9c179e\"],[0.4444444444444444,\"#bd3786\"],[0.5555555555555556,\"#d8576b\"],[0.6666666666666666,\"#ed7953\"],[0.7777777777777778,\"#fb9f3a\"],[0.8888888888888888,\"#fdca26\"],[1.0,\"#f0f921\"]]}],\"heatmap\":[{\"type\":\"heatmap\",\"colorbar\":{\"outlinewidth\":0,\"ticks\":\"\"},\"colorscale\":[[0.0,\"#0d0887\"],[0.1111111111111111,\"#46039f\"],[0.2222222222222222,\"#7201a8\"],[0.3333333333333333,\"#9c179e\"],[0.4444444444444444,\"#bd3786\"],[0.5555555555555556,\"#d8576b\"],[0.6666666666666666,\"#ed7953\"],[0.7777777777777778,\"#fb9f3a\"],[0.8888888888888888,\"#fdca26\"],[1.0,\"#f0f921\"]]}],\"heatmapgl\":[{\"type\":\"heatmapgl\",\"colorbar\":{\"outlinewidth\":0,\"ticks\":\"\"},\"colorscale\":[[0.0,\"#0d0887\"],[0.1111111111111111,\"#46039f\"],[0.2222222222222222,\"#7201a8\"],[0.3333333333333333,\"#9c179e\"],[0.4444444444444444,\"#bd3786\"],[0.5555555555555556,\"#d8576b\"],[0.6666666666666666,\"#ed7953\"],[0.7777777777777778,\"#fb9f3a\"],[0.8888888888888888,\"#fdca26\"],[1.0,\"#f0f921\"]]}],\"contourcarpet\":[{\"type\":\"contourcarpet\",\"colorbar\":{\"outlinewidth\":0,\"ticks\":\"\"}}],\"contour\":[{\"type\":\"contour\",\"colorbar\":{\"outlinewidth\":0,\"ticks\":\"\"},\"colorscale\":[[0.0,\"#0d0887\"],[0.1111111111111111,\"#46039f\"],[0.2222222222222222,\"#7201a8\"],[0.3333333333333333,\"#9c179e\"],[0.4444444444444444,\"#bd3786\"],[0.5555555555555556,\"#d8576b\"],[0.6666666666666666,\"#ed7953\"],[0.7777777777777778,\"#fb9f3a\"],[0.8888888888888888,\"#fdca26\"],[1.0,\"#f0f921\"]]}],\"surface\":[{\"type\":\"surface\",\"colorbar\":{\"outlinewidth\":0,\"ticks\":\"\"},\"colorscale\":[[0.0,\"#0d0887\"],[0.1111111111111111,\"#46039f\"],[0.2222222222222222,\"#7201a8\"],[0.3333333333333333,\"#9c179e\"],[0.4444444444444444,\"#bd3786\"],[0.5555555555555556,\"#d8576b\"],[0.6666666666666666,\"#ed7953\"],[0.7777777777777778,\"#fb9f3a\"],[0.8888888888888888,\"#fdca26\"],[1.0,\"#f0f921\"]]}],\"mesh3d\":[{\"type\":\"mesh3d\",\"colorbar\":{\"outlinewidth\":0,\"ticks\":\"\"}}],\"scatter\":[{\"fillpattern\":{\"fillmode\":\"overlay\",\"size\":10,\"solidity\":0.2},\"type\":\"scatter\"}],\"parcoords\":[{\"type\":\"parcoords\",\"line\":{\"colorbar\":{\"outlinewidth\":0,\"ticks\":\"\"}}}],\"scatterpolargl\":[{\"type\":\"scatterpolargl\",\"marker\":{\"colorbar\":{\"outlinewidth\":0,\"ticks\":\"\"}}}],\"bar\":[{\"error_x\":{\"color\":\"#2a3f5f\"},\"error_y\":{\"color\":\"#2a3f5f\"},\"marker\":{\"line\":{\"color\":\"#E5ECF6\",\"width\":0.5},\"pattern\":{\"fillmode\":\"overlay\",\"size\":10,\"solidity\":0.2}},\"type\":\"bar\"}],\"scattergeo\":[{\"type\":\"scattergeo\",\"marker\":{\"colorbar\":{\"outlinewidth\":0,\"ticks\":\"\"}}}],\"scatterpolar\":[{\"type\":\"scatterpolar\",\"marker\":{\"colorbar\":{\"outlinewidth\":0,\"ticks\":\"\"}}}],\"histogram\":[{\"marker\":{\"pattern\":{\"fillmode\":\"overlay\",\"size\":10,\"solidity\":0.2}},\"type\":\"histogram\"}],\"scattergl\":[{\"type\":\"scattergl\",\"marker\":{\"colorbar\":{\"outlinewidth\":0,\"ticks\":\"\"}}}],\"scatter3d\":[{\"type\":\"scatter3d\",\"line\":{\"colorbar\":{\"outlinewidth\":0,\"ticks\":\"\"}},\"marker\":{\"colorbar\":{\"outlinewidth\":0,\"ticks\":\"\"}}}],\"scattermapbox\":[{\"type\":\"scattermapbox\",\"marker\":{\"colorbar\":{\"outlinewidth\":0,\"ticks\":\"\"}}}],\"scatterternary\":[{\"type\":\"scatterternary\",\"marker\":{\"colorbar\":{\"outlinewidth\":0,\"ticks\":\"\"}}}],\"scattercarpet\":[{\"type\":\"scattercarpet\",\"marker\":{\"colorbar\":{\"outlinewidth\":0,\"ticks\":\"\"}}}],\"carpet\":[{\"aaxis\":{\"endlinecolor\":\"#2a3f5f\",\"gridcolor\":\"white\",\"linecolor\":\"white\",\"minorgridcolor\":\"white\",\"startlinecolor\":\"#2a3f5f\"},\"baxis\":{\"endlinecolor\":\"#2a3f5f\",\"gridcolor\":\"white\",\"linecolor\":\"white\",\"minorgridcolor\":\"white\",\"startlinecolor\":\"#2a3f5f\"},\"type\":\"carpet\"}],\"table\":[{\"cells\":{\"fill\":{\"color\":\"#EBF0F8\"},\"line\":{\"color\":\"white\"}},\"header\":{\"fill\":{\"color\":\"#C8D4E3\"},\"line\":{\"color\":\"white\"}},\"type\":\"table\"}],\"barpolar\":[{\"marker\":{\"line\":{\"color\":\"#E5ECF6\",\"width\":0.5},\"pattern\":{\"fillmode\":\"overlay\",\"size\":10,\"solidity\":0.2}},\"type\":\"barpolar\"}],\"pie\":[{\"automargin\":true,\"type\":\"pie\"}]},\"layout\":{\"autotypenumbers\":\"strict\",\"colorway\":[\"#636efa\",\"#EF553B\",\"#00cc96\",\"#ab63fa\",\"#FFA15A\",\"#19d3f3\",\"#FF6692\",\"#B6E880\",\"#FF97FF\",\"#FECB52\"],\"font\":{\"color\":\"#2a3f5f\"},\"hovermode\":\"closest\",\"hoverlabel\":{\"align\":\"left\"},\"paper_bgcolor\":\"white\",\"plot_bgcolor\":\"#E5ECF6\",\"polar\":{\"bgcolor\":\"#E5ECF6\",\"angularaxis\":{\"gridcolor\":\"white\",\"linecolor\":\"white\",\"ticks\":\"\"},\"radialaxis\":{\"gridcolor\":\"white\",\"linecolor\":\"white\",\"ticks\":\"\"}},\"ternary\":{\"bgcolor\":\"#E5ECF6\",\"aaxis\":{\"gridcolor\":\"white\",\"linecolor\":\"white\",\"ticks\":\"\"},\"baxis\":{\"gridcolor\":\"white\",\"linecolor\":\"white\",\"ticks\":\"\"},\"caxis\":{\"gridcolor\":\"white\",\"linecolor\":\"white\",\"ticks\":\"\"}},\"coloraxis\":{\"colorbar\":{\"outlinewidth\":0,\"ticks\":\"\"}},\"colorscale\":{\"sequential\":[[0.0,\"#0d0887\"],[0.1111111111111111,\"#46039f\"],[0.2222222222222222,\"#7201a8\"],[0.3333333333333333,\"#9c179e\"],[0.4444444444444444,\"#bd3786\"],[0.5555555555555556,\"#d8576b\"],[0.6666666666666666,\"#ed7953\"],[0.7777777777777778,\"#fb9f3a\"],[0.8888888888888888,\"#fdca26\"],[1.0,\"#f0f921\"]],\"sequentialminus\":[[0.0,\"#0d0887\"],[0.1111111111111111,\"#46039f\"],[0.2222222222222222,\"#7201a8\"],[0.3333333333333333,\"#9c179e\"],[0.4444444444444444,\"#bd3786\"],[0.5555555555555556,\"#d8576b\"],[0.6666666666666666,\"#ed7953\"],[0.7777777777777778,\"#fb9f3a\"],[0.8888888888888888,\"#fdca26\"],[1.0,\"#f0f921\"]],\"diverging\":[[0,\"#8e0152\"],[0.1,\"#c51b7d\"],[0.2,\"#de77ae\"],[0.3,\"#f1b6da\"],[0.4,\"#fde0ef\"],[0.5,\"#f7f7f7\"],[0.6,\"#e6f5d0\"],[0.7,\"#b8e186\"],[0.8,\"#7fbc41\"],[0.9,\"#4d9221\"],[1,\"#276419\"]]},\"xaxis\":{\"gridcolor\":\"white\",\"linecolor\":\"white\",\"ticks\":\"\",\"title\":{\"standoff\":15},\"zerolinecolor\":\"white\",\"automargin\":true,\"zerolinewidth\":2},\"yaxis\":{\"gridcolor\":\"white\",\"linecolor\":\"white\",\"ticks\":\"\",\"title\":{\"standoff\":15},\"zerolinecolor\":\"white\",\"automargin\":true,\"zerolinewidth\":2},\"scene\":{\"xaxis\":{\"backgroundcolor\":\"#E5ECF6\",\"gridcolor\":\"white\",\"linecolor\":\"white\",\"showbackground\":true,\"ticks\":\"\",\"zerolinecolor\":\"white\",\"gridwidth\":2},\"yaxis\":{\"backgroundcolor\":\"#E5ECF6\",\"gridcolor\":\"white\",\"linecolor\":\"white\",\"showbackground\":true,\"ticks\":\"\",\"zerolinecolor\":\"white\",\"gridwidth\":2},\"zaxis\":{\"backgroundcolor\":\"#E5ECF6\",\"gridcolor\":\"white\",\"linecolor\":\"white\",\"showbackground\":true,\"ticks\":\"\",\"zerolinecolor\":\"white\",\"gridwidth\":2}},\"shapedefaults\":{\"line\":{\"color\":\"#2a3f5f\"}},\"annotationdefaults\":{\"arrowcolor\":\"#2a3f5f\",\"arrowhead\":0,\"arrowwidth\":1},\"geo\":{\"bgcolor\":\"white\",\"landcolor\":\"#E5ECF6\",\"subunitcolor\":\"white\",\"showland\":true,\"showlakes\":true,\"lakecolor\":\"white\"},\"title\":{\"x\":0.05},\"mapbox\":{\"style\":\"light\"}}},\"legend\":{\"tracegroupgap\":0,\"title\":{\"text\":\"Genre\"}},\"margin\":{\"t\":60},\"piecolorway\":[\"rgb(136, 204, 238)\",\"rgb(204, 102, 119)\",\"rgb(221, 204, 119)\",\"rgb(17, 119, 51)\",\"rgb(51, 34, 136)\",\"rgb(170, 68, 153)\",\"rgb(68, 170, 153)\",\"rgb(153, 153, 51)\",\"rgb(136, 34, 85)\",\"rgb(102, 17, 0)\",\"rgb(136, 136, 136)\"],\"title\":{\"text\":\"Genre Distribution\"},\"uniformtext\":{\"minsize\":13,\"mode\":\"hide\"},\"font\":{\"family\":\"Courier New, monospace\",\"size\":18,\"color\":\"black\"}},                        {\"responsive\": true}                    ).then(function(){\n",
       "                            \n",
       "var gd = document.getElementById('19846320-39d6-4e49-a34c-cfb92410e384');\n",
       "var x = new MutationObserver(function (mutations, observer) {{\n",
       "        var display = window.getComputedStyle(gd).display;\n",
       "        if (!display || display === 'none') {{\n",
       "            console.log([gd, 'removed!']);\n",
       "            Plotly.purge(gd);\n",
       "            observer.disconnect();\n",
       "        }}\n",
       "}});\n",
       "\n",
       "// Listen for the removal of the full notebook cells\n",
       "var notebookContainer = gd.closest('#notebook-container');\n",
       "if (notebookContainer) {{\n",
       "    x.observe(notebookContainer, {childList: true});\n",
       "}}\n",
       "\n",
       "// Listen for the clearing of the current output cell\n",
       "var outputEl = gd.closest('.output');\n",
       "if (outputEl) {{\n",
       "    x.observe(outputEl, {childList: true});\n",
       "}}\n",
       "\n",
       "                        })                };                });            </script>        </div>"
      ]
     },
     "metadata": {},
     "output_type": "display_data"
    }
   ],
   "source": [
    "fig = px.pie(data_frame = genre_df,\n",
    "             values = 'Count',\n",
    "             names = genre_df.index,\n",
    "             color_discrete_sequence = px.colors.qualitative.Safe)\n",
    "\n",
    "fig.update_traces(textposition = 'inside',\n",
    "                  textinfo = 'label+percent',\n",
    "                  pull = [0.05] * len(genre_df.index.to_list()))\n",
    "\n",
    "fig.update_layout(title = {'text':'Genre Distribution'},\n",
    "                  legend_title = 'Genre',\n",
    "                  uniformtext_minsize=13,\n",
    "                  uniformtext_mode='hide',\n",
    "                  font = dict(\n",
    "                      family = \"Courier New, monospace\",\n",
    "                      size = 18,\n",
    "                      color = 'black'\n",
    "                  ))\n",
    "\n",
    "\n",
    "fig.show()"
   ]
  },
  {
   "cell_type": "markdown",
   "id": "7afc809c",
   "metadata": {
    "papermill": {
     "duration": 0.014778,
     "end_time": "2022-10-14T11:35:39.386585",
     "exception": false,
     "start_time": "2022-10-14T11:35:39.371807",
     "status": "completed"
    },
    "tags": []
   },
   "source": [
    "### 3.4 Total Gross amount every year by the industry"
   ]
  },
  {
   "cell_type": "code",
   "execution_count": 20,
   "id": "83115e3e",
   "metadata": {
    "execution": {
     "iopub.execute_input": "2022-10-14T11:35:39.417629Z",
     "iopub.status.busy": "2022-10-14T11:35:39.416888Z",
     "iopub.status.idle": "2022-10-14T11:35:39.658290Z",
     "shell.execute_reply": "2022-10-14T11:35:39.657339Z"
    },
    "papermill": {
     "duration": 0.259264,
     "end_time": "2022-10-14T11:35:39.660393",
     "exception": false,
     "start_time": "2022-10-14T11:35:39.401129",
     "status": "completed"
    },
    "scrolled": true,
    "tags": []
   },
   "outputs": [
    {
     "data": {
      "image/png": "[encoded data removed]",
      "text/plain": [
       "<Figure size 720x360 with 1 Axes>"
      ]
     },
     "metadata": {
      "needs_background": "light"
     },
     "output_type": "display_data"
    }
   ],
   "source": [
    "## Dropping irrelevent columns\n",
    "df_cleaned = df.drop([\"STARS\",'YEAR', 'hypen_year', 'end_year'],axis=1)\n",
    "df_cleaned.drop_duplicates(\"MOVIES\",inplace=True)\n",
    "\n",
    "df['beg_year']=df_cleaned[\"beg_year\"].astype(int)\n",
    "yearwise_earnings = df_cleaned.groupby('beg_year')['New_Gross'].sum().reset_index().sort_values(\"beg_year\",ascending=False).reset_index()\n",
    "\n",
    "plt.figure(figsize=(10,5))\n",
    "sns.lineplot(x=\"beg_year\",y=\"New_Gross\",data=yearwise_earnings[10:20],palette=\"viridis\")\n",
    "plt.xlabel(\"Years\",fontsize=20)\n",
    "plt.ylabel(\"Total Grossings\",fontsize=20)\n",
    "plt.xticks(rotation=90)\n",
    "\n",
    "current_values = plt.gca().get_yticks()\n",
    "plt.gca().set_yticklabels(['{:.0f}'.format(x) for x in current_values])\n",
    "plt.title(label=\"Grossing every Year\",fontsize=\"25\")\n",
    "\n",
    "plt.show()"
   ]
  },
  {
   "cell_type": "markdown",
   "id": "38976920",
   "metadata": {
    "papermill": {
     "duration": 0.016267,
     "end_time": "2022-10-14T11:35:39.693251",
     "exception": false,
     "start_time": "2022-10-14T11:35:39.676984",
     "status": "completed"
    },
    "tags": []
   },
   "source": [
    "### 3.5 Runtime of the movies (Top 10)"
   ]
  },
  {
   "cell_type": "code",
   "execution_count": 21,
   "id": "b774fe98",
   "metadata": {
    "execution": {
     "iopub.execute_input": "2022-10-14T11:35:39.727327Z",
     "iopub.status.busy": "2022-10-14T11:35:39.726711Z",
     "iopub.status.idle": "2022-10-14T11:35:40.035296Z",
     "shell.execute_reply": "2022-10-14T11:35:40.034300Z"
    },
    "papermill": {
     "duration": 0.327884,
     "end_time": "2022-10-14T11:35:40.037436",
     "exception": false,
     "start_time": "2022-10-14T11:35:39.709552",
     "status": "completed"
    },
    "tags": []
   },
   "outputs": [
    {
     "data": {
      "text/plain": [
       "Text(0.5, 1.0, 'Movies with Most RunTime')"
      ]
     },
     "execution_count": 21,
     "metadata": {},
     "output_type": "execute_result"
    },
    {
     "data": {
      "image/png": "[encoded data removed]",
      "text/plain": [
       "<Figure size 1008x576 with 1 Axes>"
      ]
     },
     "metadata": {
      "needs_background": "light"
     },
     "output_type": "display_data"
    }
   ],
   "source": [
    "runtime_df=df_cleaned.groupby(\"MOVIES\")['RunTime'].sum().sort_values(ascending=False).reset_index()[:10]\n",
    "plt.figure(figsize=(14,8))\n",
    "ax = sns.barplot(x=\"MOVIES\",y=\"RunTime\",data=runtime_df,palette=\"viridis\")\n",
    "plt.xlabel(\"MOVIES\",fontsize=20)\n",
    "plt.ylabel(\"Total Runtime\",fontsize=20)\n",
    "plt.xticks(rotation=90)\n",
    "\n",
    "current_values = plt.gca().get_yticks()\n",
    "plt.gca().set_yticklabels(['{:.0f}'.format(x) for x in current_values])\n",
    "plt.title(label=\"Movies with Most RunTime\",fontsize=\"25\")"
   ]
  },
  {
   "cell_type": "markdown",
   "id": "a6a42392",
   "metadata": {
    "papermill": {
     "duration": 0.015624,
     "end_time": "2022-10-14T11:35:40.069081",
     "exception": false,
     "start_time": "2022-10-14T11:35:40.053457",
     "status": "completed"
    },
    "tags": []
   },
   "source": [
    "### 3.6 Most Frequency of Rating"
   ]
  },
  {
   "cell_type": "code",
   "execution_count": 22,
   "id": "559ee996",
   "metadata": {
    "execution": {
     "iopub.execute_input": "2022-10-14T11:35:40.102241Z",
     "iopub.status.busy": "2022-10-14T11:35:40.101323Z",
     "iopub.status.idle": "2022-10-14T11:35:40.332334Z",
     "shell.execute_reply": "2022-10-14T11:35:40.331355Z"
    },
    "papermill": {
     "duration": 0.24994,
     "end_time": "2022-10-14T11:35:40.334487",
     "exception": false,
     "start_time": "2022-10-14T11:35:40.084547",
     "status": "completed"
    },
    "tags": []
   },
   "outputs": [
    {
     "data": {
      "image/png": "[encoded data removed]",
      "text/plain": [
       "<Figure size 720x360 with 1 Axes>"
      ]
     },
     "metadata": {
      "needs_background": "light"
     },
     "output_type": "display_data"
    }
   ],
   "source": [
    "df_rating = df_cleaned.sort_values(\"RATING\",ascending=False).reset_index()[[\"MOVIES\",\"RATING\"]]\n",
    "df_rating[\"RATING\"] = np.round(df_rating['RATING'])\n",
    "\n",
    "df_rating = df_rating.groupby(\"RATING\")['MOVIES'].count().reset_index().rename(columns={\"MOVIES\":\"MOVIES_COUNT\"})\n",
    "\n",
    "plt.figure(figsize=(10,5))\n",
    "sns.barplot(x=\"RATING\",y=\"MOVIES_COUNT\",data=df_rating,palette=\"cubehelix\")\n",
    "plt.xlabel(\"Rating\",fontsize=20)\n",
    "plt.ylabel(\"Number of Movies\",fontsize=20)\n",
    "\n",
    "current_values = plt.gca().get_yticks()\n",
    "plt.gca().set_yticklabels(['{:.0f}'.format(x) for x in current_values])\n",
    "plt.title(label=\"Rating v/ Number of Movies\",fontsize=\"25\")\n",
    "\n",
    "plt.show()"
   ]
  },
  {
   "cell_type": "markdown",
   "id": "51e28f54",
   "metadata": {
    "papermill": {
     "duration": 0.016889,
     "end_time": "2022-10-14T11:35:40.367873",
     "exception": false,
     "start_time": "2022-10-14T11:35:40.350984",
     "status": "completed"
    },
    "tags": []
   },
   "source": [
    "### 3.7 Most Popular actor"
   ]
  },
  {
   "cell_type": "code",
   "execution_count": 23,
   "id": "b6d7c86c",
   "metadata": {
    "execution": {
     "iopub.execute_input": "2022-10-14T11:35:40.415640Z",
     "iopub.status.busy": "2022-10-14T11:35:40.415237Z",
     "iopub.status.idle": "2022-10-14T11:35:40.750330Z",
     "shell.execute_reply": "2022-10-14T11:35:40.749379Z"
    },
    "papermill": {
     "duration": 0.358981,
     "end_time": "2022-10-14T11:35:40.752645",
     "exception": false,
     "start_time": "2022-10-14T11:35:40.393664",
     "status": "completed"
    },
    "tags": []
   },
   "outputs": [
    {
     "data": {
      "text/plain": [
       "Text(0.5, 1.0, 'MOST POPULAR ACTOR')"
      ]
     },
     "execution_count": 23,
     "metadata": {},
     "output_type": "execute_result"
    },
    {
     "data": {
      "image/png": "[encoded data removed]",
      "text/plain": [
       "<Figure size 720x360 with 1 Axes>"
      ]
     },
     "metadata": {
      "needs_background": "light"
     },
     "output_type": "display_data"
    }
   ],
   "source": [
    "from itertools import combinations\n",
    "from collections import Counter\n",
    "\n",
    "count=Counter()\n",
    "\n",
    "for row in df_cleaned['actors']:\n",
    "    row_split=row.split(\",\")\n",
    "    count.update(Counter(combinations(row_split,1)))\n",
    "    \n",
    "actors_count = dict(count.most_common(11))\n",
    "\n",
    "count_of_actors = list(actors_count.values())[1:]\n",
    "\n",
    "actors_count = list(actors_count.keys())\n",
    "actors_count = [str(a).replace(\",\",\"\").replace(\")\",\"\").replace(\"(\",\"\").replace(\"'\",\"\") for a in actors_count][1:]\n",
    "\n",
    "plt.figure(figsize=(10,5))\n",
    "font = {'color':  'navy',\n",
    "        'weight': 'normal',\n",
    "        'size': 20,\n",
    "        }\n",
    "\n",
    "sns.barplot(x=actors_count,y=count_of_actors,palette=\"winter\")\n",
    "plt.xlabel(\"Actors\",fontdict=font)\n",
    "plt.ylabel(\"Number of MOVIES\",fontdict=font)\n",
    "plt.xticks(rotation=90)\n",
    "current_values = plt.gca().get_yticks()\n",
    "plt.gca().set_yticklabels(['{:.0f}'.format(x) for x in current_values])\n",
    "plt.title(label=\"MOST POPULAR ACTOR\",fontdict=font)"
   ]
  },
  {
   "cell_type": "code",
   "execution_count": 24,
   "id": "aedf48c7",
   "metadata": {
    "execution": {
     "iopub.execute_input": "2022-10-14T11:35:40.788382Z",
     "iopub.status.busy": "2022-10-14T11:35:40.788061Z",
     "iopub.status.idle": "2022-10-14T11:35:40.812108Z",
     "shell.execute_reply": "2022-10-14T11:35:40.811062Z"
    },
    "papermill": {
     "duration": 0.044608,
     "end_time": "2022-10-14T11:35:40.814638",
     "exception": false,
     "start_time": "2022-10-14T11:35:40.770030",
     "status": "completed"
    },
    "tags": []
   },
   "outputs": [
    {
     "data": {
      "text/plain": [
       "[(('Drama',), 603),\n",
       " (('Comedy',), 297),\n",
       " (('Crime',), 241),\n",
       " (('Action',), 223),\n",
       " (('Adventure',), 174),\n",
       " (('Animation',), 164),\n",
       " (('Mystery',), 109),\n",
       " (('Documentary',), 108),\n",
       " (('Romance',), 84),\n",
       " (('Thriller',), 79)]"
      ]
     },
     "execution_count": 24,
     "metadata": {},
     "output_type": "execute_result"
    }
   ],
   "source": [
    "temp_df= df_cleaned.sort_values(\"RATING\",ascending=False)\n",
    "temp_df =temp_df[temp_df[\"VOTES\"]>5000].reset_index().iloc[:1000]\n",
    "temp_df=temp_df[['MOVIES',\"RATING\",\"VOTES\",\"GENRE\"]]\n",
    "\n",
    "## Counting the number of movies in which each genre is featured\n",
    "\n",
    "from itertools import combinations\n",
    "from collections import Counter\n",
    "\n",
    "count=Counter()\n",
    "\n",
    "for row in temp_df['GENRE']:\n",
    "    row_split=row.split(\",\")\n",
    "    count.update(Counter(combinations(row_split,1)))\n",
    "    \n",
    "count.most_common(10)\n",
    "\n",
    "## To have a higher rating the most famous genres are drama,comdey,action and crime."
   ]
  },
  {
   "cell_type": "markdown",
   "id": "93929f10",
   "metadata": {
    "papermill": {
     "duration": 0.016283,
     "end_time": "2022-10-14T11:35:40.847570",
     "exception": false,
     "start_time": "2022-10-14T11:35:40.831287",
     "status": "completed"
    },
    "tags": []
   },
   "source": [
    "## 4.Movie Recommendation System"
   ]
  },
  {
   "cell_type": "code",
   "execution_count": 25,
   "id": "8dfe6722",
   "metadata": {
    "execution": {
     "iopub.execute_input": "2022-10-14T11:35:40.883534Z",
     "iopub.status.busy": "2022-10-14T11:35:40.881870Z",
     "iopub.status.idle": "2022-10-14T11:35:43.181311Z",
     "shell.execute_reply": "2022-10-14T11:35:43.180181Z"
    },
    "papermill": {
     "duration": 2.319665,
     "end_time": "2022-10-14T11:35:43.183807",
     "exception": false,
     "start_time": "2022-10-14T11:35:40.864142",
     "status": "completed"
    },
    "tags": []
   },
   "outputs": [],
   "source": [
    "# Features  using GENRE, RATING??, ONE-LINE, RunTime??, Director, Stars\n",
    "\n",
    "from sklearn.feature_extraction.text import CountVectorizer\n",
    "from sklearn.metrics.pairwise import cosine_similarity\n",
    "\n",
    "features = ['GENRE','ONE-LINE','director','actors']\n",
    "\n",
    "# Filling in missing values with Blank String\n",
    "for feature in features:\n",
    "    df_cleaned[feature] = df_cleaned[feature].fillna(\"\")\n",
    "\n",
    "df_cleaned['combined_features'] = df_cleaned['GENRE'] + \" \" + df_cleaned['ONE-LINE'] + \" \" + df_cleaned['director'] + \" \" + df_cleaned['actors'] \n",
    "cv = CountVectorizer()\n",
    "count_matrix = cv.fit_transform(df_cleaned['combined_features'])\n",
    "cosine_sim = cosine_similarity(count_matrix)"
   ]
  },
  {
   "cell_type": "code",
   "execution_count": 26,
   "id": "15b26e3a",
   "metadata": {
    "execution": {
     "iopub.execute_input": "2022-10-14T11:35:43.219635Z",
     "iopub.status.busy": "2022-10-14T11:35:43.218907Z",
     "iopub.status.idle": "2022-10-14T11:35:43.227454Z",
     "shell.execute_reply": "2022-10-14T11:35:43.226557Z"
    },
    "papermill": {
     "duration": 0.028842,
     "end_time": "2022-10-14T11:35:43.229629",
     "exception": false,
     "start_time": "2022-10-14T11:35:43.200787",
     "status": "completed"
    },
    "tags": []
   },
   "outputs": [],
   "source": [
    "def movie_recommendation(mov,sim_num = 5):\n",
    "\n",
    "    user_choice = mov\n",
    "    \n",
    "    try:\n",
    "        ref_index = df_cleaned[df_cleaned['MOVIES'].str.contains(user_choice, case = False)].index[0]\n",
    "\n",
    "        similar_movies = list(enumerate(cosine_sim[ref_index]))\n",
    "\n",
    "        sorted_simmilar_movies = sorted(similar_movies, key = lambda x: x[1], reverse = True)[1:]\n",
    "\n",
    "        print('\\nRecomended Movies for [{}]'.format(user_choice))\n",
    "        print('-'*(24 + len(user_choice)))\n",
    "\n",
    "        for i, element in enumerate(sorted_simmilar_movies):\n",
    "            similar_movie_id = element[0]\n",
    "            similar_movie_title = df_cleaned['MOVIES'].iloc[similar_movie_id]\n",
    "            s_score = element[1]\n",
    "            print('{:40} -> {:.3f}'.format(similar_movie_title, s_score))\n",
    "\n",
    "            if i > sim_num:\n",
    "                break\n",
    "    except IndexError:\n",
    "        print(\"\\n[{}] is not in our database!\".format(user_choice))\n",
    "        print(\"We couldn't recommend anyting...Sorry...\")"
   ]
  },
  {
   "cell_type": "code",
   "execution_count": 27,
   "id": "28709561",
   "metadata": {
    "execution": {
     "iopub.execute_input": "2022-10-14T11:35:43.264668Z",
     "iopub.status.busy": "2022-10-14T11:35:43.263815Z",
     "iopub.status.idle": "2022-10-14T11:35:43.283393Z",
     "shell.execute_reply": "2022-10-14T11:35:43.281948Z"
    },
    "papermill": {
     "duration": 0.039728,
     "end_time": "2022-10-14T11:35:43.285960",
     "exception": false,
     "start_time": "2022-10-14T11:35:43.246232",
     "status": "completed"
    },
    "tags": []
   },
   "outputs": [
    {
     "name": "stdout",
     "output_type": "stream",
     "text": [
      "\n",
      "Recomended Movies for [spider]\n",
      "------------------------------\n",
      "Batman v Superman: Dawn of Justice       -> 0.313\n",
      "Quantum Quest: A Cassini Space Odyssey   -> 0.309\n",
      "Kong: Skull Island                       -> 0.305\n",
      "Liu lang di qiu                          -> 0.300\n",
      "Jumanji: The Next Level                  -> 0.293\n",
      "Jupiter's Legacy                         -> 0.290\n",
      "The Division                             -> 0.288\n",
      "The Hitman's Bodyguard                   -> 0.286\n",
      "Mercenaire                               -> 0.281\n",
      "Afro Samurai                             -> 0.280\n",
      "The Witcher: Blood Origin                -> 0.278\n",
      "Family Leave                             -> 0.274\n"
     ]
    }
   ],
   "source": [
    "movie_recommendation(\"spider\",sim_num=10)"
   ]
  }
 ],
 "metadata": {
  "kernelspec": {
   "display_name": "Python 3 (ipykernel)",
   "language": "python",
   "name": "python3"
  },
  "language_info": {
   "codemirror_mode": {
    "name": "ipython",
    "version": 3
   },
   "file_extension": ".py",
   "mimetype": "text/x-python",
   "name": "python",
   "nbconvert_exporter": "python",
   "pygments_lexer": "ipython3",
   "version": "3.9.7"
  },
  "papermill": {
   "default_parameters": {},
   "duration": 221.535734,
   "end_time": "2022-10-14T11:35:44.425908",
   "environment_variables": {},
   "exception": null,
   "input_path": "__notebook__.ipynb",
   "output_path": "__notebook__.ipynb",
   "parameters": {},
   "start_time": "2022-10-14T11:32:02.890174",
   "version": "2.3.4"
  }
 },
 "nbformat": 4,
 "nbformat_minor": 5
}
